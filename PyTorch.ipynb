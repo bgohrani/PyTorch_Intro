{
  "nbformat": 4,
  "nbformat_minor": 0,
  "metadata": {
    "colab": {
      "name": "PyTorch.ipynb",
      "provenance": [],
      "collapsed_sections": [],
      "authorship_tag": "ABX9TyMKinmWAMfOWDOWs2LuNoNs",
      "include_colab_link": true
    },
    "kernelspec": {
      "name": "python3",
      "display_name": "Python 3"
    },
    "language_info": {
      "name": "python"
    },
    "accelerator": "GPU",
    "widgets": {
      "application/vnd.jupyter.widget-state+json": {
        "df53b3b61c3e4c25b503a5361825c20f": {
          "model_module": "@jupyter-widgets/controls",
          "model_name": "HBoxModel",
          "state": {
            "_view_name": "HBoxView",
            "_dom_classes": [],
            "_model_name": "HBoxModel",
            "_view_module": "@jupyter-widgets/controls",
            "_model_module_version": "1.5.0",
            "_view_count": null,
            "_view_module_version": "1.5.0",
            "box_style": "",
            "layout": "IPY_MODEL_8cc22152728145e29210cd0611a0e063",
            "_model_module": "@jupyter-widgets/controls",
            "children": [
              "IPY_MODEL_98207eeac0394c53ac7ff66ac100f0ef",
              "IPY_MODEL_d98de28d9b9c4f7b8b64e08532a1c48c"
            ]
          }
        },
        "8cc22152728145e29210cd0611a0e063": {
          "model_module": "@jupyter-widgets/base",
          "model_name": "LayoutModel",
          "state": {
            "_view_name": "LayoutView",
            "grid_template_rows": null,
            "right": null,
            "justify_content": null,
            "_view_module": "@jupyter-widgets/base",
            "overflow": null,
            "_model_module_version": "1.2.0",
            "_view_count": null,
            "flex_flow": null,
            "width": null,
            "min_width": null,
            "border": null,
            "align_items": null,
            "bottom": null,
            "_model_module": "@jupyter-widgets/base",
            "top": null,
            "grid_column": null,
            "overflow_y": null,
            "overflow_x": null,
            "grid_auto_flow": null,
            "grid_area": null,
            "grid_template_columns": null,
            "flex": null,
            "_model_name": "LayoutModel",
            "justify_items": null,
            "grid_row": null,
            "max_height": null,
            "align_content": null,
            "visibility": null,
            "align_self": null,
            "height": null,
            "min_height": null,
            "padding": null,
            "grid_auto_rows": null,
            "grid_gap": null,
            "max_width": null,
            "order": null,
            "_view_module_version": "1.2.0",
            "grid_template_areas": null,
            "object_position": null,
            "object_fit": null,
            "grid_auto_columns": null,
            "margin": null,
            "display": null,
            "left": null
          }
        },
        "98207eeac0394c53ac7ff66ac100f0ef": {
          "model_module": "@jupyter-widgets/controls",
          "model_name": "FloatProgressModel",
          "state": {
            "_view_name": "ProgressView",
            "style": "IPY_MODEL_72fb06860381492998d8373005196aa3",
            "_dom_classes": [],
            "description": "100%",
            "_model_name": "FloatProgressModel",
            "bar_style": "success",
            "max": 200,
            "_view_module": "@jupyter-widgets/controls",
            "_model_module_version": "1.5.0",
            "value": 200,
            "_view_count": null,
            "_view_module_version": "1.5.0",
            "orientation": "horizontal",
            "min": 0,
            "description_tooltip": null,
            "_model_module": "@jupyter-widgets/controls",
            "layout": "IPY_MODEL_b225f9568eca4dfba4a7b8b54835ccb8"
          }
        },
        "d98de28d9b9c4f7b8b64e08532a1c48c": {
          "model_module": "@jupyter-widgets/controls",
          "model_name": "HTMLModel",
          "state": {
            "_view_name": "HTMLView",
            "style": "IPY_MODEL_c8017f4bd57842d8b0c4f801f8254b3f",
            "_dom_classes": [],
            "description": "",
            "_model_name": "HTMLModel",
            "placeholder": "​",
            "_view_module": "@jupyter-widgets/controls",
            "_model_module_version": "1.5.0",
            "value": " 200/200 [00:38&lt;00:00,  5.14it/s]",
            "_view_count": null,
            "_view_module_version": "1.5.0",
            "description_tooltip": null,
            "_model_module": "@jupyter-widgets/controls",
            "layout": "IPY_MODEL_97ba3d49f11946eaa9d0de97ccd15751"
          }
        },
        "72fb06860381492998d8373005196aa3": {
          "model_module": "@jupyter-widgets/controls",
          "model_name": "ProgressStyleModel",
          "state": {
            "_view_name": "StyleView",
            "_model_name": "ProgressStyleModel",
            "description_width": "initial",
            "_view_module": "@jupyter-widgets/base",
            "_model_module_version": "1.5.0",
            "_view_count": null,
            "_view_module_version": "1.2.0",
            "bar_color": null,
            "_model_module": "@jupyter-widgets/controls"
          }
        },
        "b225f9568eca4dfba4a7b8b54835ccb8": {
          "model_module": "@jupyter-widgets/base",
          "model_name": "LayoutModel",
          "state": {
            "_view_name": "LayoutView",
            "grid_template_rows": null,
            "right": null,
            "justify_content": null,
            "_view_module": "@jupyter-widgets/base",
            "overflow": null,
            "_model_module_version": "1.2.0",
            "_view_count": null,
            "flex_flow": null,
            "width": null,
            "min_width": null,
            "border": null,
            "align_items": null,
            "bottom": null,
            "_model_module": "@jupyter-widgets/base",
            "top": null,
            "grid_column": null,
            "overflow_y": null,
            "overflow_x": null,
            "grid_auto_flow": null,
            "grid_area": null,
            "grid_template_columns": null,
            "flex": null,
            "_model_name": "LayoutModel",
            "justify_items": null,
            "grid_row": null,
            "max_height": null,
            "align_content": null,
            "visibility": null,
            "align_self": null,
            "height": null,
            "min_height": null,
            "padding": null,
            "grid_auto_rows": null,
            "grid_gap": null,
            "max_width": null,
            "order": null,
            "_view_module_version": "1.2.0",
            "grid_template_areas": null,
            "object_position": null,
            "object_fit": null,
            "grid_auto_columns": null,
            "margin": null,
            "display": null,
            "left": null
          }
        },
        "c8017f4bd57842d8b0c4f801f8254b3f": {
          "model_module": "@jupyter-widgets/controls",
          "model_name": "DescriptionStyleModel",
          "state": {
            "_view_name": "StyleView",
            "_model_name": "DescriptionStyleModel",
            "description_width": "",
            "_view_module": "@jupyter-widgets/base",
            "_model_module_version": "1.5.0",
            "_view_count": null,
            "_view_module_version": "1.2.0",
            "_model_module": "@jupyter-widgets/controls"
          }
        },
        "97ba3d49f11946eaa9d0de97ccd15751": {
          "model_module": "@jupyter-widgets/base",
          "model_name": "LayoutModel",
          "state": {
            "_view_name": "LayoutView",
            "grid_template_rows": null,
            "right": null,
            "justify_content": null,
            "_view_module": "@jupyter-widgets/base",
            "overflow": null,
            "_model_module_version": "1.2.0",
            "_view_count": null,
            "flex_flow": null,
            "width": null,
            "min_width": null,
            "border": null,
            "align_items": null,
            "bottom": null,
            "_model_module": "@jupyter-widgets/base",
            "top": null,
            "grid_column": null,
            "overflow_y": null,
            "overflow_x": null,
            "grid_auto_flow": null,
            "grid_area": null,
            "grid_template_columns": null,
            "flex": null,
            "_model_name": "LayoutModel",
            "justify_items": null,
            "grid_row": null,
            "max_height": null,
            "align_content": null,
            "visibility": null,
            "align_self": null,
            "height": null,
            "min_height": null,
            "padding": null,
            "grid_auto_rows": null,
            "grid_gap": null,
            "max_width": null,
            "order": null,
            "_view_module_version": "1.2.0",
            "grid_template_areas": null,
            "object_position": null,
            "object_fit": null,
            "grid_auto_columns": null,
            "margin": null,
            "display": null,
            "left": null
          }
        },
        "edea326cc5c247febfa87babfa73ce8d": {
          "model_module": "@jupyter-widgets/controls",
          "model_name": "HBoxModel",
          "state": {
            "_view_name": "HBoxView",
            "_dom_classes": [],
            "_model_name": "HBoxModel",
            "_view_module": "@jupyter-widgets/controls",
            "_model_module_version": "1.5.0",
            "_view_count": null,
            "_view_module_version": "1.5.0",
            "box_style": "",
            "layout": "IPY_MODEL_f96c73ba320344898b58d85c7b3b7548",
            "_model_module": "@jupyter-widgets/controls",
            "children": [
              "IPY_MODEL_d827368c8aee426faa2be89ec533adb9",
              "IPY_MODEL_4916d460c36e4dc599b99bed11600436"
            ]
          }
        },
        "f96c73ba320344898b58d85c7b3b7548": {
          "model_module": "@jupyter-widgets/base",
          "model_name": "LayoutModel",
          "state": {
            "_view_name": "LayoutView",
            "grid_template_rows": null,
            "right": null,
            "justify_content": null,
            "_view_module": "@jupyter-widgets/base",
            "overflow": null,
            "_model_module_version": "1.2.0",
            "_view_count": null,
            "flex_flow": null,
            "width": null,
            "min_width": null,
            "border": null,
            "align_items": null,
            "bottom": null,
            "_model_module": "@jupyter-widgets/base",
            "top": null,
            "grid_column": null,
            "overflow_y": null,
            "overflow_x": null,
            "grid_auto_flow": null,
            "grid_area": null,
            "grid_template_columns": null,
            "flex": null,
            "_model_name": "LayoutModel",
            "justify_items": null,
            "grid_row": null,
            "max_height": null,
            "align_content": null,
            "visibility": null,
            "align_self": null,
            "height": null,
            "min_height": null,
            "padding": null,
            "grid_auto_rows": null,
            "grid_gap": null,
            "max_width": null,
            "order": null,
            "_view_module_version": "1.2.0",
            "grid_template_areas": null,
            "object_position": null,
            "object_fit": null,
            "grid_auto_columns": null,
            "margin": null,
            "display": null,
            "left": null
          }
        },
        "d827368c8aee426faa2be89ec533adb9": {
          "model_module": "@jupyter-widgets/controls",
          "model_name": "FloatProgressModel",
          "state": {
            "_view_name": "ProgressView",
            "style": "IPY_MODEL_74675b54999d479eaca99d0cbaeac222",
            "_dom_classes": [],
            "description": "100%",
            "_model_name": "FloatProgressModel",
            "bar_style": "success",
            "max": 200,
            "_view_module": "@jupyter-widgets/controls",
            "_model_module_version": "1.5.0",
            "value": 200,
            "_view_count": null,
            "_view_module_version": "1.5.0",
            "orientation": "horizontal",
            "min": 0,
            "description_tooltip": null,
            "_model_module": "@jupyter-widgets/controls",
            "layout": "IPY_MODEL_61f4a4b046a142d888e44d55427110ac"
          }
        },
        "4916d460c36e4dc599b99bed11600436": {
          "model_module": "@jupyter-widgets/controls",
          "model_name": "HTMLModel",
          "state": {
            "_view_name": "HTMLView",
            "style": "IPY_MODEL_57eb9a08940a4213a0e86a038ce9274c",
            "_dom_classes": [],
            "description": "",
            "_model_name": "HTMLModel",
            "placeholder": "​",
            "_view_module": "@jupyter-widgets/controls",
            "_model_module_version": "1.5.0",
            "value": " 200/200 [00:00&lt;00:00, 332.81it/s]",
            "_view_count": null,
            "_view_module_version": "1.5.0",
            "description_tooltip": null,
            "_model_module": "@jupyter-widgets/controls",
            "layout": "IPY_MODEL_e79e9ed3e81f408ea12fe8ee02fc7db8"
          }
        },
        "74675b54999d479eaca99d0cbaeac222": {
          "model_module": "@jupyter-widgets/controls",
          "model_name": "ProgressStyleModel",
          "state": {
            "_view_name": "StyleView",
            "_model_name": "ProgressStyleModel",
            "description_width": "initial",
            "_view_module": "@jupyter-widgets/base",
            "_model_module_version": "1.5.0",
            "_view_count": null,
            "_view_module_version": "1.2.0",
            "bar_color": null,
            "_model_module": "@jupyter-widgets/controls"
          }
        },
        "61f4a4b046a142d888e44d55427110ac": {
          "model_module": "@jupyter-widgets/base",
          "model_name": "LayoutModel",
          "state": {
            "_view_name": "LayoutView",
            "grid_template_rows": null,
            "right": null,
            "justify_content": null,
            "_view_module": "@jupyter-widgets/base",
            "overflow": null,
            "_model_module_version": "1.2.0",
            "_view_count": null,
            "flex_flow": null,
            "width": null,
            "min_width": null,
            "border": null,
            "align_items": null,
            "bottom": null,
            "_model_module": "@jupyter-widgets/base",
            "top": null,
            "grid_column": null,
            "overflow_y": null,
            "overflow_x": null,
            "grid_auto_flow": null,
            "grid_area": null,
            "grid_template_columns": null,
            "flex": null,
            "_model_name": "LayoutModel",
            "justify_items": null,
            "grid_row": null,
            "max_height": null,
            "align_content": null,
            "visibility": null,
            "align_self": null,
            "height": null,
            "min_height": null,
            "padding": null,
            "grid_auto_rows": null,
            "grid_gap": null,
            "max_width": null,
            "order": null,
            "_view_module_version": "1.2.0",
            "grid_template_areas": null,
            "object_position": null,
            "object_fit": null,
            "grid_auto_columns": null,
            "margin": null,
            "display": null,
            "left": null
          }
        },
        "57eb9a08940a4213a0e86a038ce9274c": {
          "model_module": "@jupyter-widgets/controls",
          "model_name": "DescriptionStyleModel",
          "state": {
            "_view_name": "StyleView",
            "_model_name": "DescriptionStyleModel",
            "description_width": "",
            "_view_module": "@jupyter-widgets/base",
            "_model_module_version": "1.5.0",
            "_view_count": null,
            "_view_module_version": "1.2.0",
            "_model_module": "@jupyter-widgets/controls"
          }
        },
        "e79e9ed3e81f408ea12fe8ee02fc7db8": {
          "model_module": "@jupyter-widgets/base",
          "model_name": "LayoutModel",
          "state": {
            "_view_name": "LayoutView",
            "grid_template_rows": null,
            "right": null,
            "justify_content": null,
            "_view_module": "@jupyter-widgets/base",
            "overflow": null,
            "_model_module_version": "1.2.0",
            "_view_count": null,
            "flex_flow": null,
            "width": null,
            "min_width": null,
            "border": null,
            "align_items": null,
            "bottom": null,
            "_model_module": "@jupyter-widgets/base",
            "top": null,
            "grid_column": null,
            "overflow_y": null,
            "overflow_x": null,
            "grid_auto_flow": null,
            "grid_area": null,
            "grid_template_columns": null,
            "flex": null,
            "_model_name": "LayoutModel",
            "justify_items": null,
            "grid_row": null,
            "max_height": null,
            "align_content": null,
            "visibility": null,
            "align_self": null,
            "height": null,
            "min_height": null,
            "padding": null,
            "grid_auto_rows": null,
            "grid_gap": null,
            "max_width": null,
            "order": null,
            "_view_module_version": "1.2.0",
            "grid_template_areas": null,
            "object_position": null,
            "object_fit": null,
            "grid_auto_columns": null,
            "margin": null,
            "display": null,
            "left": null
          }
        },
        "e3a31317ca6c4014b595390c1fe1a070": {
          "model_module": "@jupyter-widgets/controls",
          "model_name": "HBoxModel",
          "state": {
            "_view_name": "HBoxView",
            "_dom_classes": [],
            "_model_name": "HBoxModel",
            "_view_module": "@jupyter-widgets/controls",
            "_model_module_version": "1.5.0",
            "_view_count": null,
            "_view_module_version": "1.5.0",
            "box_style": "",
            "layout": "IPY_MODEL_0dbe497a2478480693acf5ea6690af10",
            "_model_module": "@jupyter-widgets/controls",
            "children": [
              "IPY_MODEL_db1334b2fd034aaf96eb63c44d5fc63f",
              "IPY_MODEL_10d0c32e1b9c48bfa455aed9d1cb2d56"
            ]
          }
        },
        "0dbe497a2478480693acf5ea6690af10": {
          "model_module": "@jupyter-widgets/base",
          "model_name": "LayoutModel",
          "state": {
            "_view_name": "LayoutView",
            "grid_template_rows": null,
            "right": null,
            "justify_content": null,
            "_view_module": "@jupyter-widgets/base",
            "overflow": null,
            "_model_module_version": "1.2.0",
            "_view_count": null,
            "flex_flow": null,
            "width": null,
            "min_width": null,
            "border": null,
            "align_items": null,
            "bottom": null,
            "_model_module": "@jupyter-widgets/base",
            "top": null,
            "grid_column": null,
            "overflow_y": null,
            "overflow_x": null,
            "grid_auto_flow": null,
            "grid_area": null,
            "grid_template_columns": null,
            "flex": null,
            "_model_name": "LayoutModel",
            "justify_items": null,
            "grid_row": null,
            "max_height": null,
            "align_content": null,
            "visibility": null,
            "align_self": null,
            "height": null,
            "min_height": null,
            "padding": null,
            "grid_auto_rows": null,
            "grid_gap": null,
            "max_width": null,
            "order": null,
            "_view_module_version": "1.2.0",
            "grid_template_areas": null,
            "object_position": null,
            "object_fit": null,
            "grid_auto_columns": null,
            "margin": null,
            "display": null,
            "left": null
          }
        },
        "db1334b2fd034aaf96eb63c44d5fc63f": {
          "model_module": "@jupyter-widgets/controls",
          "model_name": "FloatProgressModel",
          "state": {
            "_view_name": "ProgressView",
            "style": "IPY_MODEL_1c5bd58e0eff45a48501d728a0c769ce",
            "_dom_classes": [],
            "description": "100%",
            "_model_name": "FloatProgressModel",
            "bar_style": "success",
            "max": 10000,
            "_view_module": "@jupyter-widgets/controls",
            "_model_module_version": "1.5.0",
            "value": 10000,
            "_view_count": null,
            "_view_module_version": "1.5.0",
            "orientation": "horizontal",
            "min": 0,
            "description_tooltip": null,
            "_model_module": "@jupyter-widgets/controls",
            "layout": "IPY_MODEL_f1092c9331b140fdbe04433bb9807c03"
          }
        },
        "10d0c32e1b9c48bfa455aed9d1cb2d56": {
          "model_module": "@jupyter-widgets/controls",
          "model_name": "HTMLModel",
          "state": {
            "_view_name": "HTMLView",
            "style": "IPY_MODEL_11229593346c41f09ca140e75b7a2aaf",
            "_dom_classes": [],
            "description": "",
            "_model_name": "HTMLModel",
            "placeholder": "​",
            "_view_module": "@jupyter-widgets/controls",
            "_model_module_version": "1.5.0",
            "value": " 10000/10000 [00:37&lt;00:00, 269.79it/s]",
            "_view_count": null,
            "_view_module_version": "1.5.0",
            "description_tooltip": null,
            "_model_module": "@jupyter-widgets/controls",
            "layout": "IPY_MODEL_f52e00f89bb0465799d2c1ea992a2aa4"
          }
        },
        "1c5bd58e0eff45a48501d728a0c769ce": {
          "model_module": "@jupyter-widgets/controls",
          "model_name": "ProgressStyleModel",
          "state": {
            "_view_name": "StyleView",
            "_model_name": "ProgressStyleModel",
            "description_width": "initial",
            "_view_module": "@jupyter-widgets/base",
            "_model_module_version": "1.5.0",
            "_view_count": null,
            "_view_module_version": "1.2.0",
            "bar_color": null,
            "_model_module": "@jupyter-widgets/controls"
          }
        },
        "f1092c9331b140fdbe04433bb9807c03": {
          "model_module": "@jupyter-widgets/base",
          "model_name": "LayoutModel",
          "state": {
            "_view_name": "LayoutView",
            "grid_template_rows": null,
            "right": null,
            "justify_content": null,
            "_view_module": "@jupyter-widgets/base",
            "overflow": null,
            "_model_module_version": "1.2.0",
            "_view_count": null,
            "flex_flow": null,
            "width": null,
            "min_width": null,
            "border": null,
            "align_items": null,
            "bottom": null,
            "_model_module": "@jupyter-widgets/base",
            "top": null,
            "grid_column": null,
            "overflow_y": null,
            "overflow_x": null,
            "grid_auto_flow": null,
            "grid_area": null,
            "grid_template_columns": null,
            "flex": null,
            "_model_name": "LayoutModel",
            "justify_items": null,
            "grid_row": null,
            "max_height": null,
            "align_content": null,
            "visibility": null,
            "align_self": null,
            "height": null,
            "min_height": null,
            "padding": null,
            "grid_auto_rows": null,
            "grid_gap": null,
            "max_width": null,
            "order": null,
            "_view_module_version": "1.2.0",
            "grid_template_areas": null,
            "object_position": null,
            "object_fit": null,
            "grid_auto_columns": null,
            "margin": null,
            "display": null,
            "left": null
          }
        },
        "11229593346c41f09ca140e75b7a2aaf": {
          "model_module": "@jupyter-widgets/controls",
          "model_name": "DescriptionStyleModel",
          "state": {
            "_view_name": "StyleView",
            "_model_name": "DescriptionStyleModel",
            "description_width": "",
            "_view_module": "@jupyter-widgets/base",
            "_model_module_version": "1.5.0",
            "_view_count": null,
            "_view_module_version": "1.2.0",
            "_model_module": "@jupyter-widgets/controls"
          }
        },
        "f52e00f89bb0465799d2c1ea992a2aa4": {
          "model_module": "@jupyter-widgets/base",
          "model_name": "LayoutModel",
          "state": {
            "_view_name": "LayoutView",
            "grid_template_rows": null,
            "right": null,
            "justify_content": null,
            "_view_module": "@jupyter-widgets/base",
            "overflow": null,
            "_model_module_version": "1.2.0",
            "_view_count": null,
            "flex_flow": null,
            "width": null,
            "min_width": null,
            "border": null,
            "align_items": null,
            "bottom": null,
            "_model_module": "@jupyter-widgets/base",
            "top": null,
            "grid_column": null,
            "overflow_y": null,
            "overflow_x": null,
            "grid_auto_flow": null,
            "grid_area": null,
            "grid_template_columns": null,
            "flex": null,
            "_model_name": "LayoutModel",
            "justify_items": null,
            "grid_row": null,
            "max_height": null,
            "align_content": null,
            "visibility": null,
            "align_self": null,
            "height": null,
            "min_height": null,
            "padding": null,
            "grid_auto_rows": null,
            "grid_gap": null,
            "max_width": null,
            "order": null,
            "_view_module_version": "1.2.0",
            "grid_template_areas": null,
            "object_position": null,
            "object_fit": null,
            "grid_auto_columns": null,
            "margin": null,
            "display": null,
            "left": null
          }
        },
        "4b9ef86eaa3b459c87018115244d6a18": {
          "model_module": "@jupyter-widgets/controls",
          "model_name": "HBoxModel",
          "state": {
            "_view_name": "HBoxView",
            "_dom_classes": [],
            "_model_name": "HBoxModel",
            "_view_module": "@jupyter-widgets/controls",
            "_model_module_version": "1.5.0",
            "_view_count": null,
            "_view_module_version": "1.5.0",
            "box_style": "",
            "layout": "IPY_MODEL_aec3414c0ea440cba693c538c741bb87",
            "_model_module": "@jupyter-widgets/controls",
            "children": [
              "IPY_MODEL_544a97b037b64d109bb52b7522cfd173",
              "IPY_MODEL_c4a366e312a04292942ab2e3a1b858ba"
            ]
          }
        },
        "aec3414c0ea440cba693c538c741bb87": {
          "model_module": "@jupyter-widgets/base",
          "model_name": "LayoutModel",
          "state": {
            "_view_name": "LayoutView",
            "grid_template_rows": null,
            "right": null,
            "justify_content": null,
            "_view_module": "@jupyter-widgets/base",
            "overflow": null,
            "_model_module_version": "1.2.0",
            "_view_count": null,
            "flex_flow": null,
            "width": null,
            "min_width": null,
            "border": null,
            "align_items": null,
            "bottom": null,
            "_model_module": "@jupyter-widgets/base",
            "top": null,
            "grid_column": null,
            "overflow_y": null,
            "overflow_x": null,
            "grid_auto_flow": null,
            "grid_area": null,
            "grid_template_columns": null,
            "flex": null,
            "_model_name": "LayoutModel",
            "justify_items": null,
            "grid_row": null,
            "max_height": null,
            "align_content": null,
            "visibility": null,
            "align_self": null,
            "height": null,
            "min_height": null,
            "padding": null,
            "grid_auto_rows": null,
            "grid_gap": null,
            "max_width": null,
            "order": null,
            "_view_module_version": "1.2.0",
            "grid_template_areas": null,
            "object_position": null,
            "object_fit": null,
            "grid_auto_columns": null,
            "margin": null,
            "display": null,
            "left": null
          }
        },
        "544a97b037b64d109bb52b7522cfd173": {
          "model_module": "@jupyter-widgets/controls",
          "model_name": "FloatProgressModel",
          "state": {
            "_view_name": "ProgressView",
            "style": "IPY_MODEL_42db831e6eb1432dbaa67c236041d92e",
            "_dom_classes": [],
            "description": "100%",
            "_model_name": "FloatProgressModel",
            "bar_style": "success",
            "max": 10000,
            "_view_module": "@jupyter-widgets/controls",
            "_model_module_version": "1.5.0",
            "value": 10000,
            "_view_count": null,
            "_view_module_version": "1.5.0",
            "orientation": "horizontal",
            "min": 0,
            "description_tooltip": null,
            "_model_module": "@jupyter-widgets/controls",
            "layout": "IPY_MODEL_7ab5308926174e95a65a8cb8423b03b0"
          }
        },
        "c4a366e312a04292942ab2e3a1b858ba": {
          "model_module": "@jupyter-widgets/controls",
          "model_name": "HTMLModel",
          "state": {
            "_view_name": "HTMLView",
            "style": "IPY_MODEL_25e90d24da5d4320b1fbd5e88b85d184",
            "_dom_classes": [],
            "description": "",
            "_model_name": "HTMLModel",
            "placeholder": "​",
            "_view_module": "@jupyter-widgets/controls",
            "_model_module_version": "1.5.0",
            "value": " 10000/10000 [00:25&lt;00:00, 392.84it/s]",
            "_view_count": null,
            "_view_module_version": "1.5.0",
            "description_tooltip": null,
            "_model_module": "@jupyter-widgets/controls",
            "layout": "IPY_MODEL_6484103ba5d2458891b4fbc229e5c1f0"
          }
        },
        "42db831e6eb1432dbaa67c236041d92e": {
          "model_module": "@jupyter-widgets/controls",
          "model_name": "ProgressStyleModel",
          "state": {
            "_view_name": "StyleView",
            "_model_name": "ProgressStyleModel",
            "description_width": "initial",
            "_view_module": "@jupyter-widgets/base",
            "_model_module_version": "1.5.0",
            "_view_count": null,
            "_view_module_version": "1.2.0",
            "bar_color": null,
            "_model_module": "@jupyter-widgets/controls"
          }
        },
        "7ab5308926174e95a65a8cb8423b03b0": {
          "model_module": "@jupyter-widgets/base",
          "model_name": "LayoutModel",
          "state": {
            "_view_name": "LayoutView",
            "grid_template_rows": null,
            "right": null,
            "justify_content": null,
            "_view_module": "@jupyter-widgets/base",
            "overflow": null,
            "_model_module_version": "1.2.0",
            "_view_count": null,
            "flex_flow": null,
            "width": null,
            "min_width": null,
            "border": null,
            "align_items": null,
            "bottom": null,
            "_model_module": "@jupyter-widgets/base",
            "top": null,
            "grid_column": null,
            "overflow_y": null,
            "overflow_x": null,
            "grid_auto_flow": null,
            "grid_area": null,
            "grid_template_columns": null,
            "flex": null,
            "_model_name": "LayoutModel",
            "justify_items": null,
            "grid_row": null,
            "max_height": null,
            "align_content": null,
            "visibility": null,
            "align_self": null,
            "height": null,
            "min_height": null,
            "padding": null,
            "grid_auto_rows": null,
            "grid_gap": null,
            "max_width": null,
            "order": null,
            "_view_module_version": "1.2.0",
            "grid_template_areas": null,
            "object_position": null,
            "object_fit": null,
            "grid_auto_columns": null,
            "margin": null,
            "display": null,
            "left": null
          }
        },
        "25e90d24da5d4320b1fbd5e88b85d184": {
          "model_module": "@jupyter-widgets/controls",
          "model_name": "DescriptionStyleModel",
          "state": {
            "_view_name": "StyleView",
            "_model_name": "DescriptionStyleModel",
            "description_width": "",
            "_view_module": "@jupyter-widgets/base",
            "_model_module_version": "1.5.0",
            "_view_count": null,
            "_view_module_version": "1.2.0",
            "_model_module": "@jupyter-widgets/controls"
          }
        },
        "6484103ba5d2458891b4fbc229e5c1f0": {
          "model_module": "@jupyter-widgets/base",
          "model_name": "LayoutModel",
          "state": {
            "_view_name": "LayoutView",
            "grid_template_rows": null,
            "right": null,
            "justify_content": null,
            "_view_module": "@jupyter-widgets/base",
            "overflow": null,
            "_model_module_version": "1.2.0",
            "_view_count": null,
            "flex_flow": null,
            "width": null,
            "min_width": null,
            "border": null,
            "align_items": null,
            "bottom": null,
            "_model_module": "@jupyter-widgets/base",
            "top": null,
            "grid_column": null,
            "overflow_y": null,
            "overflow_x": null,
            "grid_auto_flow": null,
            "grid_area": null,
            "grid_template_columns": null,
            "flex": null,
            "_model_name": "LayoutModel",
            "justify_items": null,
            "grid_row": null,
            "max_height": null,
            "align_content": null,
            "visibility": null,
            "align_self": null,
            "height": null,
            "min_height": null,
            "padding": null,
            "grid_auto_rows": null,
            "grid_gap": null,
            "max_width": null,
            "order": null,
            "_view_module_version": "1.2.0",
            "grid_template_areas": null,
            "object_position": null,
            "object_fit": null,
            "grid_auto_columns": null,
            "margin": null,
            "display": null,
            "left": null
          }
        },
        "d3c00ff7669e42759467a7e818a96185": {
          "model_module": "@jupyter-widgets/controls",
          "model_name": "HBoxModel",
          "state": {
            "_view_name": "HBoxView",
            "_dom_classes": [],
            "_model_name": "HBoxModel",
            "_view_module": "@jupyter-widgets/controls",
            "_model_module_version": "1.5.0",
            "_view_count": null,
            "_view_module_version": "1.5.0",
            "box_style": "",
            "layout": "IPY_MODEL_1b20626e5f224bd2ab77deca0cf8f87a",
            "_model_module": "@jupyter-widgets/controls",
            "children": [
              "IPY_MODEL_5c9032205d16482ca05d672d0ef61c02",
              "IPY_MODEL_6865a4da473045368f2fa02094e895f8"
            ]
          }
        },
        "1b20626e5f224bd2ab77deca0cf8f87a": {
          "model_module": "@jupyter-widgets/base",
          "model_name": "LayoutModel",
          "state": {
            "_view_name": "LayoutView",
            "grid_template_rows": null,
            "right": null,
            "justify_content": null,
            "_view_module": "@jupyter-widgets/base",
            "overflow": null,
            "_model_module_version": "1.2.0",
            "_view_count": null,
            "flex_flow": null,
            "width": null,
            "min_width": null,
            "border": null,
            "align_items": null,
            "bottom": null,
            "_model_module": "@jupyter-widgets/base",
            "top": null,
            "grid_column": null,
            "overflow_y": null,
            "overflow_x": null,
            "grid_auto_flow": null,
            "grid_area": null,
            "grid_template_columns": null,
            "flex": null,
            "_model_name": "LayoutModel",
            "justify_items": null,
            "grid_row": null,
            "max_height": null,
            "align_content": null,
            "visibility": null,
            "align_self": null,
            "height": null,
            "min_height": null,
            "padding": null,
            "grid_auto_rows": null,
            "grid_gap": null,
            "max_width": null,
            "order": null,
            "_view_module_version": "1.2.0",
            "grid_template_areas": null,
            "object_position": null,
            "object_fit": null,
            "grid_auto_columns": null,
            "margin": null,
            "display": null,
            "left": null
          }
        },
        "5c9032205d16482ca05d672d0ef61c02": {
          "model_module": "@jupyter-widgets/controls",
          "model_name": "FloatProgressModel",
          "state": {
            "_view_name": "ProgressView",
            "style": "IPY_MODEL_b1054493b8a94e8495d3f380236f5919",
            "_dom_classes": [],
            "description": "100%",
            "_model_name": "FloatProgressModel",
            "bar_style": "success",
            "max": 10000,
            "_view_module": "@jupyter-widgets/controls",
            "_model_module_version": "1.5.0",
            "value": 10000,
            "_view_count": null,
            "_view_module_version": "1.5.0",
            "orientation": "horizontal",
            "min": 0,
            "description_tooltip": null,
            "_model_module": "@jupyter-widgets/controls",
            "layout": "IPY_MODEL_bd4916d151c84ca09b7ef810c391f5b0"
          }
        },
        "6865a4da473045368f2fa02094e895f8": {
          "model_module": "@jupyter-widgets/controls",
          "model_name": "HTMLModel",
          "state": {
            "_view_name": "HTMLView",
            "style": "IPY_MODEL_b54c7120bff7485e82b2a26b7fd76f67",
            "_dom_classes": [],
            "description": "",
            "_model_name": "HTMLModel",
            "placeholder": "​",
            "_view_module": "@jupyter-widgets/controls",
            "_model_module_version": "1.5.0",
            "value": " 10000/10000 [00:13&lt;00:00, 739.60it/s]",
            "_view_count": null,
            "_view_module_version": "1.5.0",
            "description_tooltip": null,
            "_model_module": "@jupyter-widgets/controls",
            "layout": "IPY_MODEL_9e4d91ccd7314d98b2de39940658e381"
          }
        },
        "b1054493b8a94e8495d3f380236f5919": {
          "model_module": "@jupyter-widgets/controls",
          "model_name": "ProgressStyleModel",
          "state": {
            "_view_name": "StyleView",
            "_model_name": "ProgressStyleModel",
            "description_width": "initial",
            "_view_module": "@jupyter-widgets/base",
            "_model_module_version": "1.5.0",
            "_view_count": null,
            "_view_module_version": "1.2.0",
            "bar_color": null,
            "_model_module": "@jupyter-widgets/controls"
          }
        },
        "bd4916d151c84ca09b7ef810c391f5b0": {
          "model_module": "@jupyter-widgets/base",
          "model_name": "LayoutModel",
          "state": {
            "_view_name": "LayoutView",
            "grid_template_rows": null,
            "right": null,
            "justify_content": null,
            "_view_module": "@jupyter-widgets/base",
            "overflow": null,
            "_model_module_version": "1.2.0",
            "_view_count": null,
            "flex_flow": null,
            "width": null,
            "min_width": null,
            "border": null,
            "align_items": null,
            "bottom": null,
            "_model_module": "@jupyter-widgets/base",
            "top": null,
            "grid_column": null,
            "overflow_y": null,
            "overflow_x": null,
            "grid_auto_flow": null,
            "grid_area": null,
            "grid_template_columns": null,
            "flex": null,
            "_model_name": "LayoutModel",
            "justify_items": null,
            "grid_row": null,
            "max_height": null,
            "align_content": null,
            "visibility": null,
            "align_self": null,
            "height": null,
            "min_height": null,
            "padding": null,
            "grid_auto_rows": null,
            "grid_gap": null,
            "max_width": null,
            "order": null,
            "_view_module_version": "1.2.0",
            "grid_template_areas": null,
            "object_position": null,
            "object_fit": null,
            "grid_auto_columns": null,
            "margin": null,
            "display": null,
            "left": null
          }
        },
        "b54c7120bff7485e82b2a26b7fd76f67": {
          "model_module": "@jupyter-widgets/controls",
          "model_name": "DescriptionStyleModel",
          "state": {
            "_view_name": "StyleView",
            "_model_name": "DescriptionStyleModel",
            "description_width": "",
            "_view_module": "@jupyter-widgets/base",
            "_model_module_version": "1.5.0",
            "_view_count": null,
            "_view_module_version": "1.2.0",
            "_model_module": "@jupyter-widgets/controls"
          }
        },
        "9e4d91ccd7314d98b2de39940658e381": {
          "model_module": "@jupyter-widgets/base",
          "model_name": "LayoutModel",
          "state": {
            "_view_name": "LayoutView",
            "grid_template_rows": null,
            "right": null,
            "justify_content": null,
            "_view_module": "@jupyter-widgets/base",
            "overflow": null,
            "_model_module_version": "1.2.0",
            "_view_count": null,
            "flex_flow": null,
            "width": null,
            "min_width": null,
            "border": null,
            "align_items": null,
            "bottom": null,
            "_model_module": "@jupyter-widgets/base",
            "top": null,
            "grid_column": null,
            "overflow_y": null,
            "overflow_x": null,
            "grid_auto_flow": null,
            "grid_area": null,
            "grid_template_columns": null,
            "flex": null,
            "_model_name": "LayoutModel",
            "justify_items": null,
            "grid_row": null,
            "max_height": null,
            "align_content": null,
            "visibility": null,
            "align_self": null,
            "height": null,
            "min_height": null,
            "padding": null,
            "grid_auto_rows": null,
            "grid_gap": null,
            "max_width": null,
            "order": null,
            "_view_module_version": "1.2.0",
            "grid_template_areas": null,
            "object_position": null,
            "object_fit": null,
            "grid_auto_columns": null,
            "margin": null,
            "display": null,
            "left": null
          }
        },
        "10051319b72d4e20939818e552006adb": {
          "model_module": "@jupyter-widgets/controls",
          "model_name": "HBoxModel",
          "state": {
            "_view_name": "HBoxView",
            "_dom_classes": [],
            "_model_name": "HBoxModel",
            "_view_module": "@jupyter-widgets/controls",
            "_model_module_version": "1.5.0",
            "_view_count": null,
            "_view_module_version": "1.5.0",
            "box_style": "",
            "layout": "IPY_MODEL_d6383cbbe05545a9a3b0358926e03a39",
            "_model_module": "@jupyter-widgets/controls",
            "children": [
              "IPY_MODEL_1bf5123e673b4d70a346ed4697337166",
              "IPY_MODEL_78ca5d20fade4dbba0e4dd015c85b3db"
            ]
          }
        },
        "d6383cbbe05545a9a3b0358926e03a39": {
          "model_module": "@jupyter-widgets/base",
          "model_name": "LayoutModel",
          "state": {
            "_view_name": "LayoutView",
            "grid_template_rows": null,
            "right": null,
            "justify_content": null,
            "_view_module": "@jupyter-widgets/base",
            "overflow": null,
            "_model_module_version": "1.2.0",
            "_view_count": null,
            "flex_flow": null,
            "width": null,
            "min_width": null,
            "border": null,
            "align_items": null,
            "bottom": null,
            "_model_module": "@jupyter-widgets/base",
            "top": null,
            "grid_column": null,
            "overflow_y": null,
            "overflow_x": null,
            "grid_auto_flow": null,
            "grid_area": null,
            "grid_template_columns": null,
            "flex": null,
            "_model_name": "LayoutModel",
            "justify_items": null,
            "grid_row": null,
            "max_height": null,
            "align_content": null,
            "visibility": null,
            "align_self": null,
            "height": null,
            "min_height": null,
            "padding": null,
            "grid_auto_rows": null,
            "grid_gap": null,
            "max_width": null,
            "order": null,
            "_view_module_version": "1.2.0",
            "grid_template_areas": null,
            "object_position": null,
            "object_fit": null,
            "grid_auto_columns": null,
            "margin": null,
            "display": null,
            "left": null
          }
        },
        "1bf5123e673b4d70a346ed4697337166": {
          "model_module": "@jupyter-widgets/controls",
          "model_name": "FloatProgressModel",
          "state": {
            "_view_name": "ProgressView",
            "style": "IPY_MODEL_2cde7e0d18eb429b88b311bfe6421ccf",
            "_dom_classes": [],
            "description": "100%",
            "_model_name": "FloatProgressModel",
            "bar_style": "success",
            "max": 10000,
            "_view_module": "@jupyter-widgets/controls",
            "_model_module_version": "1.5.0",
            "value": 10000,
            "_view_count": null,
            "_view_module_version": "1.5.0",
            "orientation": "horizontal",
            "min": 0,
            "description_tooltip": null,
            "_model_module": "@jupyter-widgets/controls",
            "layout": "IPY_MODEL_299111c7253b47a98bba17dffa500c81"
          }
        },
        "78ca5d20fade4dbba0e4dd015c85b3db": {
          "model_module": "@jupyter-widgets/controls",
          "model_name": "HTMLModel",
          "state": {
            "_view_name": "HTMLView",
            "style": "IPY_MODEL_7dbfaa607b9b4876b69fd4779a3ccd32",
            "_dom_classes": [],
            "description": "",
            "_model_name": "HTMLModel",
            "placeholder": "​",
            "_view_module": "@jupyter-widgets/controls",
            "_model_module_version": "1.5.0",
            "value": " 10000/10000 [02:35&lt;00:00, 64.41it/s]",
            "_view_count": null,
            "_view_module_version": "1.5.0",
            "description_tooltip": null,
            "_model_module": "@jupyter-widgets/controls",
            "layout": "IPY_MODEL_89be07928ee84751bb3365759f260d6f"
          }
        },
        "2cde7e0d18eb429b88b311bfe6421ccf": {
          "model_module": "@jupyter-widgets/controls",
          "model_name": "ProgressStyleModel",
          "state": {
            "_view_name": "StyleView",
            "_model_name": "ProgressStyleModel",
            "description_width": "initial",
            "_view_module": "@jupyter-widgets/base",
            "_model_module_version": "1.5.0",
            "_view_count": null,
            "_view_module_version": "1.2.0",
            "bar_color": null,
            "_model_module": "@jupyter-widgets/controls"
          }
        },
        "299111c7253b47a98bba17dffa500c81": {
          "model_module": "@jupyter-widgets/base",
          "model_name": "LayoutModel",
          "state": {
            "_view_name": "LayoutView",
            "grid_template_rows": null,
            "right": null,
            "justify_content": null,
            "_view_module": "@jupyter-widgets/base",
            "overflow": null,
            "_model_module_version": "1.2.0",
            "_view_count": null,
            "flex_flow": null,
            "width": null,
            "min_width": null,
            "border": null,
            "align_items": null,
            "bottom": null,
            "_model_module": "@jupyter-widgets/base",
            "top": null,
            "grid_column": null,
            "overflow_y": null,
            "overflow_x": null,
            "grid_auto_flow": null,
            "grid_area": null,
            "grid_template_columns": null,
            "flex": null,
            "_model_name": "LayoutModel",
            "justify_items": null,
            "grid_row": null,
            "max_height": null,
            "align_content": null,
            "visibility": null,
            "align_self": null,
            "height": null,
            "min_height": null,
            "padding": null,
            "grid_auto_rows": null,
            "grid_gap": null,
            "max_width": null,
            "order": null,
            "_view_module_version": "1.2.0",
            "grid_template_areas": null,
            "object_position": null,
            "object_fit": null,
            "grid_auto_columns": null,
            "margin": null,
            "display": null,
            "left": null
          }
        },
        "7dbfaa607b9b4876b69fd4779a3ccd32": {
          "model_module": "@jupyter-widgets/controls",
          "model_name": "DescriptionStyleModel",
          "state": {
            "_view_name": "StyleView",
            "_model_name": "DescriptionStyleModel",
            "description_width": "",
            "_view_module": "@jupyter-widgets/base",
            "_model_module_version": "1.5.0",
            "_view_count": null,
            "_view_module_version": "1.2.0",
            "_model_module": "@jupyter-widgets/controls"
          }
        },
        "89be07928ee84751bb3365759f260d6f": {
          "model_module": "@jupyter-widgets/base",
          "model_name": "LayoutModel",
          "state": {
            "_view_name": "LayoutView",
            "grid_template_rows": null,
            "right": null,
            "justify_content": null,
            "_view_module": "@jupyter-widgets/base",
            "overflow": null,
            "_model_module_version": "1.2.0",
            "_view_count": null,
            "flex_flow": null,
            "width": null,
            "min_width": null,
            "border": null,
            "align_items": null,
            "bottom": null,
            "_model_module": "@jupyter-widgets/base",
            "top": null,
            "grid_column": null,
            "overflow_y": null,
            "overflow_x": null,
            "grid_auto_flow": null,
            "grid_area": null,
            "grid_template_columns": null,
            "flex": null,
            "_model_name": "LayoutModel",
            "justify_items": null,
            "grid_row": null,
            "max_height": null,
            "align_content": null,
            "visibility": null,
            "align_self": null,
            "height": null,
            "min_height": null,
            "padding": null,
            "grid_auto_rows": null,
            "grid_gap": null,
            "max_width": null,
            "order": null,
            "_view_module_version": "1.2.0",
            "grid_template_areas": null,
            "object_position": null,
            "object_fit": null,
            "grid_auto_columns": null,
            "margin": null,
            "display": null,
            "left": null
          }
        },
        "ac7a4027c3604bedbcf73019521d0f4c": {
          "model_module": "@jupyter-widgets/controls",
          "model_name": "HBoxModel",
          "state": {
            "_view_name": "HBoxView",
            "_dom_classes": [],
            "_model_name": "HBoxModel",
            "_view_module": "@jupyter-widgets/controls",
            "_model_module_version": "1.5.0",
            "_view_count": null,
            "_view_module_version": "1.5.0",
            "box_style": "",
            "layout": "IPY_MODEL_718290a9bdd7412f83839905a096e818",
            "_model_module": "@jupyter-widgets/controls",
            "children": [
              "IPY_MODEL_82e8883f097d4e7d97c1835b5c605544",
              "IPY_MODEL_98d15e345257413a9f0feb27b7ec2329"
            ]
          }
        },
        "718290a9bdd7412f83839905a096e818": {
          "model_module": "@jupyter-widgets/base",
          "model_name": "LayoutModel",
          "state": {
            "_view_name": "LayoutView",
            "grid_template_rows": null,
            "right": null,
            "justify_content": null,
            "_view_module": "@jupyter-widgets/base",
            "overflow": null,
            "_model_module_version": "1.2.0",
            "_view_count": null,
            "flex_flow": null,
            "width": null,
            "min_width": null,
            "border": null,
            "align_items": null,
            "bottom": null,
            "_model_module": "@jupyter-widgets/base",
            "top": null,
            "grid_column": null,
            "overflow_y": null,
            "overflow_x": null,
            "grid_auto_flow": null,
            "grid_area": null,
            "grid_template_columns": null,
            "flex": null,
            "_model_name": "LayoutModel",
            "justify_items": null,
            "grid_row": null,
            "max_height": null,
            "align_content": null,
            "visibility": null,
            "align_self": null,
            "height": null,
            "min_height": null,
            "padding": null,
            "grid_auto_rows": null,
            "grid_gap": null,
            "max_width": null,
            "order": null,
            "_view_module_version": "1.2.0",
            "grid_template_areas": null,
            "object_position": null,
            "object_fit": null,
            "grid_auto_columns": null,
            "margin": null,
            "display": null,
            "left": null
          }
        },
        "82e8883f097d4e7d97c1835b5c605544": {
          "model_module": "@jupyter-widgets/controls",
          "model_name": "FloatProgressModel",
          "state": {
            "_view_name": "ProgressView",
            "style": "IPY_MODEL_a5b39aa9e85b4f868cf75834a3b670c7",
            "_dom_classes": [],
            "description": "100%",
            "_model_name": "FloatProgressModel",
            "bar_style": "success",
            "max": 10000,
            "_view_module": "@jupyter-widgets/controls",
            "_model_module_version": "1.5.0",
            "value": 10000,
            "_view_count": null,
            "_view_module_version": "1.5.0",
            "orientation": "horizontal",
            "min": 0,
            "description_tooltip": null,
            "_model_module": "@jupyter-widgets/controls",
            "layout": "IPY_MODEL_dc1b78bceb934ffdbe2e7f77281e70eb"
          }
        },
        "98d15e345257413a9f0feb27b7ec2329": {
          "model_module": "@jupyter-widgets/controls",
          "model_name": "HTMLModel",
          "state": {
            "_view_name": "HTMLView",
            "style": "IPY_MODEL_4f2596f758b042da8be6133e2537f905",
            "_dom_classes": [],
            "description": "",
            "_model_name": "HTMLModel",
            "placeholder": "​",
            "_view_module": "@jupyter-widgets/controls",
            "_model_module_version": "1.5.0",
            "value": " 10000/10000 [02:20&lt;00:00, 71.02it/s]",
            "_view_count": null,
            "_view_module_version": "1.5.0",
            "description_tooltip": null,
            "_model_module": "@jupyter-widgets/controls",
            "layout": "IPY_MODEL_24b5bfe46291439e992763629ef232cf"
          }
        },
        "a5b39aa9e85b4f868cf75834a3b670c7": {
          "model_module": "@jupyter-widgets/controls",
          "model_name": "ProgressStyleModel",
          "state": {
            "_view_name": "StyleView",
            "_model_name": "ProgressStyleModel",
            "description_width": "initial",
            "_view_module": "@jupyter-widgets/base",
            "_model_module_version": "1.5.0",
            "_view_count": null,
            "_view_module_version": "1.2.0",
            "bar_color": null,
            "_model_module": "@jupyter-widgets/controls"
          }
        },
        "dc1b78bceb934ffdbe2e7f77281e70eb": {
          "model_module": "@jupyter-widgets/base",
          "model_name": "LayoutModel",
          "state": {
            "_view_name": "LayoutView",
            "grid_template_rows": null,
            "right": null,
            "justify_content": null,
            "_view_module": "@jupyter-widgets/base",
            "overflow": null,
            "_model_module_version": "1.2.0",
            "_view_count": null,
            "flex_flow": null,
            "width": null,
            "min_width": null,
            "border": null,
            "align_items": null,
            "bottom": null,
            "_model_module": "@jupyter-widgets/base",
            "top": null,
            "grid_column": null,
            "overflow_y": null,
            "overflow_x": null,
            "grid_auto_flow": null,
            "grid_area": null,
            "grid_template_columns": null,
            "flex": null,
            "_model_name": "LayoutModel",
            "justify_items": null,
            "grid_row": null,
            "max_height": null,
            "align_content": null,
            "visibility": null,
            "align_self": null,
            "height": null,
            "min_height": null,
            "padding": null,
            "grid_auto_rows": null,
            "grid_gap": null,
            "max_width": null,
            "order": null,
            "_view_module_version": "1.2.0",
            "grid_template_areas": null,
            "object_position": null,
            "object_fit": null,
            "grid_auto_columns": null,
            "margin": null,
            "display": null,
            "left": null
          }
        },
        "4f2596f758b042da8be6133e2537f905": {
          "model_module": "@jupyter-widgets/controls",
          "model_name": "DescriptionStyleModel",
          "state": {
            "_view_name": "StyleView",
            "_model_name": "DescriptionStyleModel",
            "description_width": "",
            "_view_module": "@jupyter-widgets/base",
            "_model_module_version": "1.5.0",
            "_view_count": null,
            "_view_module_version": "1.2.0",
            "_model_module": "@jupyter-widgets/controls"
          }
        },
        "24b5bfe46291439e992763629ef232cf": {
          "model_module": "@jupyter-widgets/base",
          "model_name": "LayoutModel",
          "state": {
            "_view_name": "LayoutView",
            "grid_template_rows": null,
            "right": null,
            "justify_content": null,
            "_view_module": "@jupyter-widgets/base",
            "overflow": null,
            "_model_module_version": "1.2.0",
            "_view_count": null,
            "flex_flow": null,
            "width": null,
            "min_width": null,
            "border": null,
            "align_items": null,
            "bottom": null,
            "_model_module": "@jupyter-widgets/base",
            "top": null,
            "grid_column": null,
            "overflow_y": null,
            "overflow_x": null,
            "grid_auto_flow": null,
            "grid_area": null,
            "grid_template_columns": null,
            "flex": null,
            "_model_name": "LayoutModel",
            "justify_items": null,
            "grid_row": null,
            "max_height": null,
            "align_content": null,
            "visibility": null,
            "align_self": null,
            "height": null,
            "min_height": null,
            "padding": null,
            "grid_auto_rows": null,
            "grid_gap": null,
            "max_width": null,
            "order": null,
            "_view_module_version": "1.2.0",
            "grid_template_areas": null,
            "object_position": null,
            "object_fit": null,
            "grid_auto_columns": null,
            "margin": null,
            "display": null,
            "left": null
          }
        },
        "02507fb6857b4b048fc8055508436444": {
          "model_module": "@jupyter-widgets/controls",
          "model_name": "HBoxModel",
          "state": {
            "_view_name": "HBoxView",
            "_dom_classes": [],
            "_model_name": "HBoxModel",
            "_view_module": "@jupyter-widgets/controls",
            "_model_module_version": "1.5.0",
            "_view_count": null,
            "_view_module_version": "1.5.0",
            "box_style": "",
            "layout": "IPY_MODEL_b7fe7db0d2044cf190e5d05bb620f245",
            "_model_module": "@jupyter-widgets/controls",
            "children": [
              "IPY_MODEL_f62006285b704dc9bb339102fe409ab3",
              "IPY_MODEL_79a54aeb5cbb44ff99126191391cf19d"
            ]
          }
        },
        "b7fe7db0d2044cf190e5d05bb620f245": {
          "model_module": "@jupyter-widgets/base",
          "model_name": "LayoutModel",
          "state": {
            "_view_name": "LayoutView",
            "grid_template_rows": null,
            "right": null,
            "justify_content": null,
            "_view_module": "@jupyter-widgets/base",
            "overflow": null,
            "_model_module_version": "1.2.0",
            "_view_count": null,
            "flex_flow": null,
            "width": null,
            "min_width": null,
            "border": null,
            "align_items": null,
            "bottom": null,
            "_model_module": "@jupyter-widgets/base",
            "top": null,
            "grid_column": null,
            "overflow_y": null,
            "overflow_x": null,
            "grid_auto_flow": null,
            "grid_area": null,
            "grid_template_columns": null,
            "flex": null,
            "_model_name": "LayoutModel",
            "justify_items": null,
            "grid_row": null,
            "max_height": null,
            "align_content": null,
            "visibility": null,
            "align_self": null,
            "height": null,
            "min_height": null,
            "padding": null,
            "grid_auto_rows": null,
            "grid_gap": null,
            "max_width": null,
            "order": null,
            "_view_module_version": "1.2.0",
            "grid_template_areas": null,
            "object_position": null,
            "object_fit": null,
            "grid_auto_columns": null,
            "margin": null,
            "display": null,
            "left": null
          }
        },
        "f62006285b704dc9bb339102fe409ab3": {
          "model_module": "@jupyter-widgets/controls",
          "model_name": "FloatProgressModel",
          "state": {
            "_view_name": "ProgressView",
            "style": "IPY_MODEL_19f2f0cdb3fd4ae5b58aefc3b429d615",
            "_dom_classes": [],
            "description": "100%",
            "_model_name": "FloatProgressModel",
            "bar_style": "success",
            "max": 500,
            "_view_module": "@jupyter-widgets/controls",
            "_model_module_version": "1.5.0",
            "value": 500,
            "_view_count": null,
            "_view_module_version": "1.5.0",
            "orientation": "horizontal",
            "min": 0,
            "description_tooltip": null,
            "_model_module": "@jupyter-widgets/controls",
            "layout": "IPY_MODEL_97b22472951e42a294c460d0f7120acd"
          }
        },
        "79a54aeb5cbb44ff99126191391cf19d": {
          "model_module": "@jupyter-widgets/controls",
          "model_name": "HTMLModel",
          "state": {
            "_view_name": "HTMLView",
            "style": "IPY_MODEL_6ed911733a794ddc8c9ff5f92e6f98cc",
            "_dom_classes": [],
            "description": "",
            "_model_name": "HTMLModel",
            "placeholder": "​",
            "_view_module": "@jupyter-widgets/controls",
            "_model_module_version": "1.5.0",
            "value": " 500/500 [00:01&lt;00:00, 389.50it/s]",
            "_view_count": null,
            "_view_module_version": "1.5.0",
            "description_tooltip": null,
            "_model_module": "@jupyter-widgets/controls",
            "layout": "IPY_MODEL_f8e5e99b4ee641b3bfe446b43e96d4dc"
          }
        },
        "19f2f0cdb3fd4ae5b58aefc3b429d615": {
          "model_module": "@jupyter-widgets/controls",
          "model_name": "ProgressStyleModel",
          "state": {
            "_view_name": "StyleView",
            "_model_name": "ProgressStyleModel",
            "description_width": "initial",
            "_view_module": "@jupyter-widgets/base",
            "_model_module_version": "1.5.0",
            "_view_count": null,
            "_view_module_version": "1.2.0",
            "bar_color": null,
            "_model_module": "@jupyter-widgets/controls"
          }
        },
        "97b22472951e42a294c460d0f7120acd": {
          "model_module": "@jupyter-widgets/base",
          "model_name": "LayoutModel",
          "state": {
            "_view_name": "LayoutView",
            "grid_template_rows": null,
            "right": null,
            "justify_content": null,
            "_view_module": "@jupyter-widgets/base",
            "overflow": null,
            "_model_module_version": "1.2.0",
            "_view_count": null,
            "flex_flow": null,
            "width": null,
            "min_width": null,
            "border": null,
            "align_items": null,
            "bottom": null,
            "_model_module": "@jupyter-widgets/base",
            "top": null,
            "grid_column": null,
            "overflow_y": null,
            "overflow_x": null,
            "grid_auto_flow": null,
            "grid_area": null,
            "grid_template_columns": null,
            "flex": null,
            "_model_name": "LayoutModel",
            "justify_items": null,
            "grid_row": null,
            "max_height": null,
            "align_content": null,
            "visibility": null,
            "align_self": null,
            "height": null,
            "min_height": null,
            "padding": null,
            "grid_auto_rows": null,
            "grid_gap": null,
            "max_width": null,
            "order": null,
            "_view_module_version": "1.2.0",
            "grid_template_areas": null,
            "object_position": null,
            "object_fit": null,
            "grid_auto_columns": null,
            "margin": null,
            "display": null,
            "left": null
          }
        },
        "6ed911733a794ddc8c9ff5f92e6f98cc": {
          "model_module": "@jupyter-widgets/controls",
          "model_name": "DescriptionStyleModel",
          "state": {
            "_view_name": "StyleView",
            "_model_name": "DescriptionStyleModel",
            "description_width": "",
            "_view_module": "@jupyter-widgets/base",
            "_model_module_version": "1.5.0",
            "_view_count": null,
            "_view_module_version": "1.2.0",
            "_model_module": "@jupyter-widgets/controls"
          }
        },
        "f8e5e99b4ee641b3bfe446b43e96d4dc": {
          "model_module": "@jupyter-widgets/base",
          "model_name": "LayoutModel",
          "state": {
            "_view_name": "LayoutView",
            "grid_template_rows": null,
            "right": null,
            "justify_content": null,
            "_view_module": "@jupyter-widgets/base",
            "overflow": null,
            "_model_module_version": "1.2.0",
            "_view_count": null,
            "flex_flow": null,
            "width": null,
            "min_width": null,
            "border": null,
            "align_items": null,
            "bottom": null,
            "_model_module": "@jupyter-widgets/base",
            "top": null,
            "grid_column": null,
            "overflow_y": null,
            "overflow_x": null,
            "grid_auto_flow": null,
            "grid_area": null,
            "grid_template_columns": null,
            "flex": null,
            "_model_name": "LayoutModel",
            "justify_items": null,
            "grid_row": null,
            "max_height": null,
            "align_content": null,
            "visibility": null,
            "align_self": null,
            "height": null,
            "min_height": null,
            "padding": null,
            "grid_auto_rows": null,
            "grid_gap": null,
            "max_width": null,
            "order": null,
            "_view_module_version": "1.2.0",
            "grid_template_areas": null,
            "object_position": null,
            "object_fit": null,
            "grid_auto_columns": null,
            "margin": null,
            "display": null,
            "left": null
          }
        }
      }
    }
  },
  "cells": [
    {
      "cell_type": "markdown",
      "metadata": {
        "id": "view-in-github",
        "colab_type": "text"
      },
      "source": [
        "<a href=\"https://colab.research.google.com/github/bgohrani/PyTorch_Intro/blob/main/PyTorch.ipynb\" target=\"_parent\"><img src=\"https://colab.research.google.com/assets/colab-badge.svg\" alt=\"Open In Colab\"/></a>"
      ]
    },
    {
      "cell_type": "markdown",
      "metadata": {
        "id": "JgssUBYnPvaG"
      },
      "source": [
        "#PyTorch\n",
        "\n",
        "Here we'll be using a standard machine learning library known as PyTorch, that simplifies a lot of existing code we have written earlier. Now that we have understood the intuition behind forward pass, backpropagation, optimization and so on, we can avoid writing huge classes and abstracting out certain sections of our code by taking advantage of built in functions and methods commonly used in DL. We will do this step by step, running several models on the same dataset."
      ]
    },
    {
      "cell_type": "code",
      "metadata": {
        "id": "iVJUXIMVjjE1"
      },
      "source": [
        "import numpy as np\n",
        "import pandas as pd\n",
        "import seaborn as sns\n",
        "import matplotlib.pyplot as plt\n",
        "from tqdm import tqdm_notebook\n",
        "from sklearn.preprocessing import OneHotEncoder\n",
        "from sklearn.model_selection import train_test_split\n",
        "from sklearn.metrics import accuracy_score , mean_squared_error\n",
        "import matplotlib.colors\n",
        "import math\n",
        "from sklearn.datasets import make_blobs\n",
        "from sklearn.compose import ColumnTransformer\n",
        "import torch\n",
        "import torch.nn.functional as F\n",
        "import torch.nn as nn\n",
        "from torch import optim\n",
        "import time\n",
        "sns.set()\n",
        "\n",
        "\n",
        "#We import our usual libraries\n",
        "#Additional libraries:\n",
        "#torch for storing data in the form of tensors, faster to operate upon\n",
        "#torch.functional, here we use the built in loss_function\n",
        "#torch.nn to use modules for initializing data in an easy manner \n",
        "#optim to use the built-in optimizer rather than writing code for incrementing"
      ],
      "execution_count": null,
      "outputs": []
    },
    {
      "cell_type": "code",
      "metadata": {
        "colab": {
          "base_uri": "https://localhost:8080/"
        },
        "id": "L56XQTjMkFRq",
        "outputId": "3c83e2dc-af2d-4c07-c34a-83f506985184"
      },
      "source": [
        "x = torch.zeros(3,2)\n",
        "y = torch.rand(3,2)\n",
        "x_np = x.numpy()\n",
        "x_np.shape"
      ],
      "execution_count": null,
      "outputs": [
        {
          "output_type": "execute_result",
          "data": {
            "text/plain": [
              "(3, 2)"
            ]
          },
          "metadata": {
            "tags": []
          },
          "execution_count": 3
        }
      ]
    },
    {
      "cell_type": "code",
      "metadata": {
        "colab": {
          "base_uri": "https://localhost:8080/"
        },
        "id": "PDkdxxGrkewc",
        "outputId": "64cbcd67-91a0-4398-ef41-f806c93456f2"
      },
      "source": [
        "print(torch.cuda.device_count())\n",
        "cuda0 = torch.device('cuda:0')\n",
        "torch.cuda.device(0)\n",
        "\n",
        "#cuda device count helps us find the number of GPUs available, in colab it is 2\n",
        "#We store this GPU data in a variable called cuda0, we can refer to it while initialising values to be stored in GPU\n",
        "#Third line helps us find the location of the GPU"
      ],
      "execution_count": null,
      "outputs": [
        {
          "output_type": "stream",
          "text": [
            "1\n"
          ],
          "name": "stdout"
        },
        {
          "output_type": "execute_result",
          "data": {
            "text/plain": [
              "<torch.cuda.device at 0x7f44eb524990>"
            ]
          },
          "metadata": {
            "tags": []
          },
          "execution_count": 4
        }
      ]
    },
    {
      "cell_type": "code",
      "metadata": {
        "id": "BTPBj09My4sv",
        "colab": {
          "base_uri": "https://localhost:8080/"
        },
        "outputId": "67c4323a-275e-4a45-e514-6a4bb06b140f"
      },
      "source": [
        "x = torch.ones([3,2], requires_grad=True)\n",
        "print(x)\n",
        "y = x + 5\n",
        "print(y)\n",
        "z = 1/(1 + torch.exp(-y))\n",
        "print(z)\n",
        "final = torch.sum(z)\n",
        "print(final)\n",
        "final.backward()\n",
        "x.grad\n",
        "\n",
        "#We are using the autograd function here, making 2 layers of a forward pass and evaluating gradients \n",
        "#We take our output from the pass and use .backward(), to find gradients\n",
        "#We can then refer to gradients of any layer simply by calling .grad"
      ],
      "execution_count": null,
      "outputs": [
        {
          "output_type": "stream",
          "text": [
            "tensor([[1., 1.],\n",
            "        [1., 1.],\n",
            "        [1., 1.]], requires_grad=True)\n",
            "tensor([[6., 6.],\n",
            "        [6., 6.],\n",
            "        [6., 6.]], grad_fn=<AddBackward0>)\n",
            "tensor([[0.9975, 0.9975],\n",
            "        [0.9975, 0.9975],\n",
            "        [0.9975, 0.9975]], grad_fn=<MulBackward0>)\n",
            "tensor(5.9852, grad_fn=<SumBackward0>)\n"
          ],
          "name": "stdout"
        },
        {
          "output_type": "execute_result",
          "data": {
            "text/plain": [
              "tensor([[0.0025, 0.0025],\n",
              "        [0.0025, 0.0025],\n",
              "        [0.0025, 0.0025]])"
            ]
          },
          "metadata": {
            "tags": []
          },
          "execution_count": 5
        }
      ]
    },
    {
      "cell_type": "code",
      "metadata": {
        "colab": {
          "base_uri": "https://localhost:8080/",
          "height": 675,
          "referenced_widgets": [
            "df53b3b61c3e4c25b503a5361825c20f",
            "8cc22152728145e29210cd0611a0e063",
            "98207eeac0394c53ac7ff66ac100f0ef",
            "d98de28d9b9c4f7b8b64e08532a1c48c",
            "72fb06860381492998d8373005196aa3",
            "b225f9568eca4dfba4a7b8b54835ccb8",
            "c8017f4bd57842d8b0c4f801f8254b3f",
            "97ba3d49f11946eaa9d0de97ccd15751"
          ]
        },
        "id": "wUfKWkLdEeaz",
        "outputId": "84be84f4-0d79-448c-eb89-0cd603cdc8d7"
      },
      "source": [
        "%%time\n",
        "N = 1000\n",
        "epochs =200000\n",
        "loss_training = []\n",
        "\n",
        "x = torch.rand([N], requires_grad=True) \n",
        "weight = torch.rand([N],requires_grad=True)\n",
        "y = torch.dot(x,weight) + 100\n",
        "\n",
        "w = torch.rand([N],requires_grad=True)\n",
        "b = torch.tensor([1.0],requires_grad=True)\n",
        "\n",
        "for i in tqdm_notebook(range(200)):\n",
        "  y_pred = torch.dot(w,x) + b\n",
        "  loss = torch.sum((y_pred - y)**2)\n",
        "  loss_training.append(loss.item())\n",
        "  loss.backward(retain_graph=True)\n",
        "  with torch.no_grad():\n",
        "    w -= 0.0001*w.grad\n",
        "    b -= 0.0001*b.grad\n",
        "    w.grad.zero_()\n",
        "    b.grad.zero_()\n",
        "\n",
        "plt.figure(dpi=150)\n",
        "plt.plot(loss_training)\n",
        "plt.show\n",
        "\n",
        "\n",
        "#We have tried to run a simple model here similar to classes we have written before\n",
        "#We first generate x and y for training and then initialise random weights and get them to fit\n",
        "#In the loop we do a forward pass, find y_pred, compute loss, do backward for the loss, and get w.grad, b.grad\n",
        "#Then setting no_grad, to keep the further computations out of the forward pass, we update the weights and then reset the gradients\n",
        "#Loss at each step is stored in a list and then the list is plotted as usual \n",
        "#To use autograd, each initialisation is done with requires_grad = True"
      ],
      "execution_count": null,
      "outputs": [
        {
          "output_type": "stream",
          "text": [
            "/usr/local/lib/python3.7/dist-packages/ipykernel_launcher.py:9: TqdmDeprecationWarning: This function will be removed in tqdm==5.0.0\n",
            "Please use `tqdm.notebook.tqdm` instead of `tqdm.tqdm_notebook`\n",
            "  if __name__ == '__main__':\n"
          ],
          "name": "stderr"
        },
        {
          "output_type": "display_data",
          "data": {
            "application/vnd.jupyter.widget-view+json": {
              "model_id": "df53b3b61c3e4c25b503a5361825c20f",
              "version_minor": 0,
              "version_major": 2
            },
            "text/plain": [
              "HBox(children=(FloatProgress(value=0.0, max=200.0), HTML(value='')))"
            ]
          },
          "metadata": {
            "tags": []
          }
        },
        {
          "output_type": "stream",
          "text": [
            "\n",
            "CPU times: user 157 ms, sys: 4.18 ms, total: 161 ms\n",
            "Wall time: 180 ms\n"
          ],
          "name": "stdout"
        },
        {
          "output_type": "display_data",
          "data": {
            "image/png": "[encoded data removed]",
            "text/plain": [
              "<Figure size 900x600 with 1 Axes>"
            ]
          },
          "metadata": {
            "tags": []
          }
        }
      ]
    },
    {
      "cell_type": "code",
      "metadata": {
        "id": "N6NZyrO7ednu",
        "colab": {
          "base_uri": "https://localhost:8080/",
          "height": 676,
          "referenced_widgets": [
            "edea326cc5c247febfa87babfa73ce8d",
            "f96c73ba320344898b58d85c7b3b7548",
            "d827368c8aee426faa2be89ec533adb9",
            "4916d460c36e4dc599b99bed11600436",
            "74675b54999d479eaca99d0cbaeac222",
            "61f4a4b046a142d888e44d55427110ac",
            "57eb9a08940a4213a0e86a038ce9274c",
            "e79e9ed3e81f408ea12fe8ee02fc7db8"
          ]
        },
        "outputId": "921875b7-3d09-43f3-b534-f4d5fa380fef"
      },
      "source": [
        "%%time\n",
        "loss_training = []\n",
        "x = torch.rand([20,1], requires_grad=True)\n",
        "weight = torch.rand([1,20],requires_grad=True)\n",
        "y = torch.matmul(weight,x) + 100\n",
        "w = torch.rand([1,20],requires_grad=True)\n",
        "b = torch.tensor([1.0],requires_grad=True)\n",
        "for i in tqdm_notebook(range(200)):\n",
        "  y_pred = torch.matmul(w,x) + b\n",
        "  loss = torch.sum((y_pred - y)**2)\n",
        "  loss_training.append(loss.item())\n",
        "  loss.backward(retain_graph=True)\n",
        "  with torch.no_grad():\n",
        "    w -= 0.0001*w.grad\n",
        "    b -= 0.0001*b.grad\n",
        "    w.grad.zero_()\n",
        "    b.grad.zero_()\n",
        "\n",
        "plt.figure(dpi=150)\n",
        "plt.plot(loss_training)\n",
        "plt.show\n",
        "\n",
        "#Same thing, different parameters"
      ],
      "execution_count": null,
      "outputs": [
        {
          "output_type": "stream",
          "text": [
            "/usr/local/lib/python3.7/dist-packages/ipykernel_launcher.py:7: TqdmDeprecationWarning: This function will be removed in tqdm==5.0.0\n",
            "Please use `tqdm.notebook.tqdm` instead of `tqdm.tqdm_notebook`\n",
            "  import sys\n"
          ],
          "name": "stderr"
        },
        {
          "output_type": "display_data",
          "data": {
            "application/vnd.jupyter.widget-view+json": {
              "model_id": "edea326cc5c247febfa87babfa73ce8d",
              "version_minor": 0,
              "version_major": 2
            },
            "text/plain": [
              "HBox(children=(FloatProgress(value=0.0, max=200.0), HTML(value='')))"
            ]
          },
          "metadata": {
            "tags": []
          }
        },
        {
          "output_type": "stream",
          "text": [
            "\n",
            "CPU times: user 142 ms, sys: 13.6 ms, total: 155 ms\n",
            "Wall time: 191 ms\n"
          ],
          "name": "stdout"
        },
        {
          "output_type": "display_data",
          "data": {
            "image/png": "[encoded data removed]",
            "text/plain": [
              "<Figure size 900x600 with 1 Axes>"
            ]
          },
          "metadata": {
            "tags": []
          }
        }
      ]
    },
    {
      "cell_type": "code",
      "metadata": {
        "colab": {
          "base_uri": "https://localhost:8080/",
          "height": 542
        },
        "id": "zmSMqj_U6yvN",
        "outputId": "e86dc0fe-5357-4e87-b827-6189bcdfd328"
      },
      "source": [
        "cmap1 = matplotlib.colors.LinearSegmentedColormap.from_list(\"\", [\"red\",\"yellow\",\"green\"])\n",
        "data,labels = make_blobs(n_samples=1000, n_features=2,centers=4, random_state=0)\n",
        "plt.figure(dpi=150)\n",
        "plt.scatter(data[:,0],data[:,1],c=labels, cmap= cmap1,s=8)\n",
        "plt.show()\n",
        "\n",
        "#Generating data for training, and plotting as usual"
      ],
      "execution_count": null,
      "outputs": [
        {
          "output_type": "display_data",
          "data": {
            "image/png": "[encoded data removed]",
            "text/plain": [
              "<Figure size 900x600 with 1 Axes>"
            ]
          },
          "metadata": {
            "tags": []
          }
        }
      ]
    },
    {
      "cell_type": "code",
      "metadata": {
        "colab": {
          "base_uri": "https://localhost:8080/"
        },
        "id": "KOgTcwP87BXU",
        "outputId": "9bdc8db0-37ce-4a1e-e0ba-52f897e8afbe"
      },
      "source": [
        "X_train1, X_test1, Y_train1, Y_test1 = train_test_split(data,labels, stratify=labels, random_state=0)\n",
        "print(X_train1.shape, Y_train1.shape, X_test1.shape, Y_test1.shape)\n",
        "\n",
        "X_train = torch.from_numpy(X_train1)\n",
        "X_test = torch.from_numpy(X_test1)\n",
        "Y_train = torch.from_numpy(Y_train1)\n",
        "Y_test = torch.from_numpy(Y_test1)\n",
        "\n",
        "#Splitting for training and testing\n",
        "#Conversion of all data into tensors"
      ],
      "execution_count": null,
      "outputs": [
        {
          "output_type": "stream",
          "text": [
            "(750, 2) (750,) (250, 2) (250,)\n"
          ],
          "name": "stdout"
        }
      ]
    },
    {
      "cell_type": "code",
      "metadata": {
        "id": "sLyJmJrg78BX"
      },
      "source": [
        "def model(x):\n",
        "  a1 = torch.matmul(weight1,x.T) + bias1\n",
        "  h1 = a1.sigmoid()\n",
        "  a2 = torch.matmul(weight2,h1) + bias2\n",
        "  h2 = torch.exp(a2)/torch.sum(torch.exp(a2),axis= 0)\n",
        "  return h2\n",
        "\n",
        "def loss_func(y_hat,y):\n",
        "  return -(y_hat[y,range(y.shape[0])].log()).mean()\n",
        "\n",
        "def accuracy_find(y_hat,y):\n",
        "  return (torch.argmax(y_hat,axis=0) == y).float().mean().item()\n",
        "\n",
        "\n",
        "#We define 3 functions here, one model which is like our forward pass, for the network 2 -> 2 -> 4\n",
        "#Our loss function takes the cross entropy loss by taking the y indice and then the negative log of it \n",
        "#Our accuracy just sees which all values match and take the mean of those "
      ],
      "execution_count": null,
      "outputs": []
    },
    {
      "cell_type": "code",
      "metadata": {
        "colab": {
          "base_uri": "https://localhost:8080/",
          "height": 739,
          "referenced_widgets": [
            "e3a31317ca6c4014b595390c1fe1a070",
            "0dbe497a2478480693acf5ea6690af10",
            "db1334b2fd034aaf96eb63c44d5fc63f",
            "10d0c32e1b9c48bfa455aed9d1cb2d56",
            "1c5bd58e0eff45a48501d728a0c769ce",
            "f1092c9331b140fdbe04433bb9807c03",
            "11229593346c41f09ca140e75b7a2aaf",
            "f52e00f89bb0465799d2c1ea992a2aa4"
          ]
        },
        "id": "w1dJq8uOxBmx",
        "outputId": "c8c17704-2b71-4c80-bbad-015ab50779b4"
      },
      "source": [
        "torch.manual_seed(0)\n",
        "weight1 = torch.rand([2,2],requires_grad=True)\n",
        "weight2 = torch.rand([4,2],requires_grad=True)\n",
        "bias1 = torch.zeros([2,1],requires_grad=True)\n",
        "bias2 = torch.zeros([4,1],requires_grad=True)\n",
        "\n",
        "epochs = 10000\n",
        "lr = 0.2\n",
        "loss_count = []\n",
        "accuracy_count = []\n",
        "\n",
        "\n",
        "for i in tqdm_notebook(range(epochs)):\n",
        "  y_hat = model(X_train.float())\n",
        "  loss_train = loss_func(y_hat,Y_train)\n",
        "  loss_train.backward()\n",
        "  loss_count.append(loss_train)\n",
        "  accuracy_count.append(accuracy_find(y_hat,Y_train))\n",
        "\n",
        "  with torch.no_grad():\n",
        "    weight1 -= lr*(weight1.grad)\n",
        "    weight2 -= lr*(weight2.grad)\n",
        "    bias1 -= lr*(bias1.grad)\n",
        "    bias2 -= lr*(bias2.grad)\n",
        "    weight1.grad.zero_()\n",
        "    weight2.grad.zero_()\n",
        "    bias1.grad.zero_()\n",
        "    bias2.grad.zero_()\n",
        "\n",
        "plt.figure(dpi=150)\n",
        "plt.plot(loss_count,'r')\n",
        "plt.plot(accuracy_count,'b')\n",
        "plt.xlabel('Epochs')\n",
        "plt.ylabel('Loss & Accuracy')\n",
        "plt.title('Training Data')\n",
        "plt.show()\n",
        "print('Accuracy:', accuracy_count[epochs-1])\n",
        "print('Loss:', loss_count[epochs-1].item())\n",
        "\n",
        "#We use these 3 functions here, we initialize weights and biases, epochs, lr\n",
        "#We then run a loop across epochs, doing forward pass, backward and then taking no_grad, update our parameters\n",
        "#We then plot the loss and accuracy lists we have been maintaining as before \n"
      ],
      "execution_count": null,
      "outputs": [
        {
          "output_type": "stream",
          "text": [
            "/usr/local/lib/python3.7/dist-packages/ipykernel_launcher.py:13: TqdmDeprecationWarning: This function will be removed in tqdm==5.0.0\n",
            "Please use `tqdm.notebook.tqdm` instead of `tqdm.tqdm_notebook`\n",
            "  del sys.path[0]\n"
          ],
          "name": "stderr"
        },
        {
          "output_type": "display_data",
          "data": {
            "application/vnd.jupyter.widget-view+json": {
              "model_id": "e3a31317ca6c4014b595390c1fe1a070",
              "version_minor": 0,
              "version_major": 2
            },
            "text/plain": [
              "HBox(children=(FloatProgress(value=0.0, max=10000.0), HTML(value='')))"
            ]
          },
          "metadata": {
            "tags": []
          }
        },
        {
          "output_type": "stream",
          "text": [
            "\n"
          ],
          "name": "stdout"
        },
        {
          "output_type": "display_data",
          "data": {
            "image/png": "[encoded data removed]",
            "text/plain": [
              "<Figure size 900x600 with 1 Axes>"
            ]
          },
          "metadata": {
            "tags": []
          }
        },
        {
          "output_type": "stream",
          "text": [
            "Accuracy: 0.9213333129882812\n",
            "Loss: 0.19197414815425873\n"
          ],
          "name": "stdout"
        }
      ]
    },
    {
      "cell_type": "code",
      "metadata": {
        "id": "NAhC8XwU9fQ7",
        "colab": {
          "base_uri": "https://localhost:8080/",
          "height": 739,
          "referenced_widgets": [
            "4b9ef86eaa3b459c87018115244d6a18",
            "aec3414c0ea440cba693c538c741bb87",
            "544a97b037b64d109bb52b7522cfd173",
            "c4a366e312a04292942ab2e3a1b858ba",
            "42db831e6eb1432dbaa67c236041d92e",
            "7ab5308926174e95a65a8cb8423b03b0",
            "25e90d24da5d4320b1fbd5e88b85d184",
            "6484103ba5d2458891b4fbc229e5c1f0"
          ]
        },
        "outputId": "bad5bc56-46c0-4b46-f95e-c8851cf926ab"
      },
      "source": [
        "torch.manual_seed(0)\n",
        "weight1 = torch.rand([2,2],requires_grad=True)\n",
        "weight2 = torch.rand([4,2],requires_grad=True)\n",
        "bias1 = torch.zeros([2,1],requires_grad=True)\n",
        "bias2 = torch.zeros([4,1],requires_grad=True)\n",
        "\n",
        "epochs = 10000\n",
        "lr = 0.2\n",
        "loss_count = []\n",
        "accuracy_count = []\n",
        "\n",
        "\n",
        "for i in tqdm_notebook(range(epochs)):\n",
        "  y_hat = model(X_train.float())\n",
        "  loss_train = F.cross_entropy(y_hat.T,Y_train)\n",
        "  loss_train.backward()\n",
        "  loss_count.append(loss_train)\n",
        "  accuracy_count.append(accuracy_find(y_hat,Y_train))\n",
        "\n",
        "  with torch.no_grad():\n",
        "    weight1 -= lr*(weight1.grad)\n",
        "    weight2 -= lr*(weight2.grad)\n",
        "    bias1 -= lr*(bias1.grad)\n",
        "    bias2 -= lr*(bias2.grad)\n",
        "    weight1.grad.zero_()\n",
        "    weight2.grad.zero_()\n",
        "    bias1.grad.zero_()\n",
        "    bias2.grad.zero_()\n",
        "\n",
        "plt.figure(dpi=150)\n",
        "plt.plot(loss_count,'r')\n",
        "plt.plot(accuracy_count,'b')\n",
        "plt.xlabel('Epochs')\n",
        "plt.ylabel('Loss & Accuracy')\n",
        "plt.title('Training Data')\n",
        "plt.show()\n",
        "print('Accuracy:', accuracy_count[epochs-1])\n",
        "print('Loss:', loss_count[epochs-1].item())\n",
        "\n",
        "\n",
        "#Exactly the same procedure as before, just that we use the cross_entropy loss in nn.functional instead of our loss func"
      ],
      "execution_count": null,
      "outputs": [
        {
          "output_type": "stream",
          "text": [
            "/usr/local/lib/python3.7/dist-packages/ipykernel_launcher.py:13: TqdmDeprecationWarning: This function will be removed in tqdm==5.0.0\n",
            "Please use `tqdm.notebook.tqdm` instead of `tqdm.tqdm_notebook`\n",
            "  del sys.path[0]\n"
          ],
          "name": "stderr"
        },
        {
          "output_type": "display_data",
          "data": {
            "application/vnd.jupyter.widget-view+json": {
              "model_id": "4b9ef86eaa3b459c87018115244d6a18",
              "version_minor": 0,
              "version_major": 2
            },
            "text/plain": [
              "HBox(children=(FloatProgress(value=0.0, max=10000.0), HTML(value='')))"
            ]
          },
          "metadata": {
            "tags": []
          }
        },
        {
          "output_type": "stream",
          "text": [
            "\n"
          ],
          "name": "stdout"
        },
        {
          "output_type": "display_data",
          "data": {
            "image/png": "[encoded data removed]",
            "text/plain": [
              "<Figure size 900x600 with 1 Axes>"
            ]
          },
          "metadata": {
            "tags": []
          }
        },
        {
          "output_type": "stream",
          "text": [
            "Accuracy: 0.8973333239555359\n",
            "Loss: 0.8567402362823486\n"
          ],
          "name": "stdout"
        }
      ]
    },
    {
      "cell_type": "code",
      "metadata": {
        "id": "mNQjhTck4OkK"
      },
      "source": [
        "class FFNetwork(nn.Module):\n",
        "\n",
        "  def __init__(self):\n",
        "    super().__init__()\n",
        "    torch.manual_seed(0)\n",
        "    self.weight1 = nn.Parameter(torch.rand([2,2],requires_grad=True))\n",
        "    self.weight2 = nn.Parameter(torch.rand([4,2],requires_grad=True))\n",
        "    self.bias1  = nn.Parameter(torch.zeros([2,1],requires_grad=True))\n",
        "    self.bias2 = nn.Parameter(torch.zeros([4,1],requires_grad=True))\n",
        "  \n",
        "  def forward(self,x):\n",
        "    a1 = torch.matmul(self.weight1,x.T) + self.bias1\n",
        "    h1 = torch.sigmoid(a1)\n",
        "    a2 = torch.matmul(self.weight2,h1) + self.bias2\n",
        "    h2 = torch.exp(a2)/torch.sum(torch.exp(a2),axis= 0)\n",
        "    return h2\n",
        "\n",
        "    \n",
        "def fit(epochs = 10000, lr = 0.2):\n",
        "  loss_count1 = []\n",
        "  accuracy_count1 = []\n",
        "\n",
        "  for i in tqdm_notebook(range(epochs)):\n",
        "    y_hat = fn(X_train.float())\n",
        "    loss_train = F.cross_entropy(y_hat.T,Y_train)\n",
        "    loss_count1.append(loss_train)\n",
        "    accuracy_count1.append(accuracy_find(y_hat,Y_train))\n",
        "    loss_train.backward()\n",
        "    with torch.no_grad():\n",
        "      for param in fn.parameters():\n",
        "        param -= lr * param.grad\n",
        "      fn.zero_grad()\n",
        "  \n",
        "  plt.figure(dpi=150)\n",
        "  plt.plot(loss_count1,'r')\n",
        "  plt.plot(accuracy_count1,'b')\n",
        "  plt.xlabel('Epochs')\n",
        "  plt.ylabel('Loss & Accuracy')\n",
        "  plt.title('Training Data')\n",
        "  plt.show()\n",
        "  print('Accuracy:', accuracy_count1[epochs-1])\n",
        "  print('Loss:', loss_count1[epochs-1].item())\n",
        "\n",
        "\n",
        "#We finally write a class here as before, fit func is kept separate\n",
        "#We use nn.parameters to initilize our weights and store it appropriately \n",
        "#Forward pass is as usual, and in the fit function, forward is called by 'fn'. We will define fn below\n",
        "#We dont need to update each parameter seaparately, just call a loop of param in fn.parameters\n",
        "#Plotting as usual"
      ],
      "execution_count": null,
      "outputs": []
    },
    {
      "cell_type": "code",
      "metadata": {
        "colab": {
          "base_uri": "https://localhost:8080/",
          "height": 722,
          "referenced_widgets": [
            "d3c00ff7669e42759467a7e818a96185",
            "1b20626e5f224bd2ab77deca0cf8f87a",
            "5c9032205d16482ca05d672d0ef61c02",
            "6865a4da473045368f2fa02094e895f8",
            "b1054493b8a94e8495d3f380236f5919",
            "bd4916d151c84ca09b7ef810c391f5b0",
            "b54c7120bff7485e82b2a26b7fd76f67",
            "9e4d91ccd7314d98b2de39940658e381"
          ]
        },
        "id": "29Uf-2AK7BhF",
        "outputId": "6f2f0a96-974e-4001-d5b7-8360bad82c06"
      },
      "source": [
        "fn = FFNetwork()\n",
        "fit()\n",
        "\n",
        "#We define fn here and call the fit function for training "
      ],
      "execution_count": null,
      "outputs": [
        {
          "output_type": "stream",
          "text": [
            "/usr/local/lib/python3.7/dist-packages/ipykernel_launcher.py:23: TqdmDeprecationWarning: This function will be removed in tqdm==5.0.0\n",
            "Please use `tqdm.notebook.tqdm` instead of `tqdm.tqdm_notebook`\n"
          ],
          "name": "stderr"
        },
        {
          "output_type": "display_data",
          "data": {
            "application/vnd.jupyter.widget-view+json": {
              "model_id": "d3c00ff7669e42759467a7e818a96185",
              "version_minor": 0,
              "version_major": 2
            },
            "text/plain": [
              "HBox(children=(FloatProgress(value=0.0, max=10000.0), HTML(value='')))"
            ]
          },
          "metadata": {
            "tags": []
          }
        },
        {
          "output_type": "stream",
          "text": [
            "\n"
          ],
          "name": "stdout"
        },
        {
          "output_type": "display_data",
          "data": {
            "image/png": "[encoded data removed]",
            "text/plain": [
              "<Figure size 900x600 with 1 Axes>"
            ]
          },
          "metadata": {
            "tags": []
          }
        },
        {
          "output_type": "stream",
          "text": [
            "Accuracy: 0.8973333239555359\n",
            "Loss: 0.8567402362823486\n"
          ],
          "name": "stdout"
        }
      ]
    },
    {
      "cell_type": "code",
      "metadata": {
        "id": "e5rwLXnS8uHu"
      },
      "source": [
        "class FFNetwork_v1(nn.Module):\n",
        "\n",
        "  def __init__(self):\n",
        "    super().__init__()\n",
        "    torch.manual_seed(0)\n",
        "    self.lin1 = nn.Linear(2,2)\n",
        "    self.lin2 = nn.Linear(2,4)\n",
        "\n",
        "  def forward(self,x):\n",
        "    a1 = self.lin1(x.float())\n",
        "    h1 = torch.sigmoid(a1)\n",
        "    a2 = self.lin2(h1)\n",
        "    h2 = torch.div(torch.exp(a2),torch.sum(torch.exp(a2),axis=1).view(-1,1))\n",
        "    return h2\n",
        "  \n",
        "def fit_2(epochs = 10000, lr = 0.1):\n",
        "  loss_count1 = []\n",
        "  accuracy_count1 = []\n",
        "\n",
        "  for i in tqdm_notebook(range(epochs)):\n",
        "    y_hat = fn(X_train.float())\n",
        "    loss_train = F.cross_entropy(y_hat,Y_train)\n",
        "    loss_count1.append(loss_train)\n",
        "    accuracy_count1.append(accuracy_find_2(y_hat,Y_train))\n",
        "    loss_train.backward()\n",
        "    with torch.no_grad():\n",
        "      for param in fn.parameters():\n",
        "        param -= (lr*param.grad)\n",
        "      fn.zero_grad()\n",
        "  \n",
        "  plt.figure(dpi=150)\n",
        "  plt.plot(loss_count1,'r')\n",
        "  plt.plot(accuracy_count1,'b')\n",
        "  plt.xlabel('Epochs')\n",
        "  plt.ylabel('Loss & Accuracy')\n",
        "  plt.title('Training Data')\n",
        "  plt.show()\n",
        "  print('Accuracy:', accuracy_count1[epochs-1])\n",
        "  print('Loss:', loss_count1[epochs-1].item())\n",
        "\n",
        "\n",
        "def accuracy_find_2(y_hat,y):\n",
        "  return (torch.argmax(y_hat,axis=1) == y).float().mean().item()\n",
        "\n",
        "\n",
        "\n",
        "#We define another class here, initialization is not done with nn.parameter, we use nn.linear\n",
        "#We can avoid the matrix multiplication here by using linear, we just pass X_train into it\n",
        "#We run the training loop, mostly the same, parameter method can still be used for updating \n",
        "#The optimization and plotting remains the same as before \n",
        "\n",
        "#The major change from earlier is in the dimension of the matrices used\n",
        "#Linear is initialized as 2,2 and 2,4 instead of 2,2 and 4,2\n",
        "#X is not transposed, matrix multiplied with w as (x,w) instead of (w,x) --> (750,2)x(2,2) and (750,2)x(2,4)\n",
        "#While doing softmax manually, care is taken to divide the sum along each row, torch.div is used here with modification\n",
        "#Accuracy count function is also modified and argmax is taken along colums (axis = 1) rather than rows (axis=0)"
      ],
      "execution_count": null,
      "outputs": []
    },
    {
      "cell_type": "code",
      "metadata": {
        "colab": {
          "base_uri": "https://localhost:8080/",
          "height": 722,
          "referenced_widgets": [
            "10051319b72d4e20939818e552006adb",
            "d6383cbbe05545a9a3b0358926e03a39",
            "1bf5123e673b4d70a346ed4697337166",
            "78ca5d20fade4dbba0e4dd015c85b3db",
            "2cde7e0d18eb429b88b311bfe6421ccf",
            "299111c7253b47a98bba17dffa500c81",
            "7dbfaa607b9b4876b69fd4779a3ccd32",
            "89be07928ee84751bb3365759f260d6f"
          ]
        },
        "id": "G7r_e4qM69Eq",
        "outputId": "05296b1e-1293-48ad-d8e1-4c8f137c9aab"
      },
      "source": [
        "fn = FFNetwork_v1()\n",
        "fit_2()"
      ],
      "execution_count": null,
      "outputs": [
        {
          "output_type": "stream",
          "text": [
            "/usr/local/lib/python3.7/dist-packages/ipykernel_launcher.py:20: TqdmDeprecationWarning: This function will be removed in tqdm==5.0.0\n",
            "Please use `tqdm.notebook.tqdm` instead of `tqdm.tqdm_notebook`\n"
          ],
          "name": "stderr"
        },
        {
          "output_type": "display_data",
          "data": {
            "application/vnd.jupyter.widget-view+json": {
              "model_id": "10051319b72d4e20939818e552006adb",
              "version_minor": 0,
              "version_major": 2
            },
            "text/plain": [
              "HBox(children=(FloatProgress(value=0.0, max=10000.0), HTML(value='')))"
            ]
          },
          "metadata": {
            "tags": []
          }
        },
        {
          "output_type": "stream",
          "text": [
            "\n"
          ],
          "name": "stdout"
        },
        {
          "output_type": "display_data",
          "data": {
            "image/png": "[encoded data removed]",
            "text/plain": [
              "<Figure size 900x600 with 1 Axes>"
            ]
          },
          "metadata": {
            "tags": []
          }
        },
        {
          "output_type": "stream",
          "text": [
            "Accuracy: 0.8866666555404663\n",
            "Loss: 0.8738743662834167\n"
          ],
          "name": "stdout"
        }
      ]
    },
    {
      "cell_type": "code",
      "metadata": {
        "id": "DFdgVpt9JMKR"
      },
      "source": [
        "def fit_3(epochs=10000,lr=0.1):\n",
        "  loss_count2 = []\n",
        "  accuracy_count2 = []\n",
        "  opt = optim.SGD(fn.parameters(),lr=0.1)\n",
        "\n",
        "  for i in tqdm_notebook(range(epochs)):\n",
        "    y_hat = fn(X_train.float())\n",
        "    loss_train = F.cross_entropy(y_hat,Y_train)\n",
        "    loss_count2.append(loss_train)\n",
        "    accuracy_count2.append(accuracy_find_2(y_hat,Y_train))\n",
        "    loss_train.backward()\n",
        "    opt.step()\n",
        "    opt.zero_grad()\n",
        "\n",
        "\n",
        "  plt.figure(dpi=150)\n",
        "  plt.plot(loss_count2,'r')\n",
        "  plt.plot(accuracy_count2,'b')\n",
        "  plt.xlabel('Epochs')\n",
        "  plt.ylabel('Loss & Accuracy')\n",
        "  plt.title('Training Data')\n",
        "  plt.show()\n",
        "  print('Accuracy:', accuracy_count2[epochs-1])\n",
        "  print('Loss:', loss_count2[epochs-1].item())\n",
        "\n",
        "\n",
        "#This is the almost the same fit function as used before\n",
        "#Only change is that now we don't need to cal the loop on params also for updating, we can use optim\n",
        "#We initialise opt above with fn.parameters and learning rate and simply call opt.step() for updating and opt.zero_grad for setting gradients to 0"
      ],
      "execution_count": null,
      "outputs": []
    },
    {
      "cell_type": "code",
      "metadata": {
        "colab": {
          "base_uri": "https://localhost:8080/",
          "height": 739,
          "referenced_widgets": [
            "ac7a4027c3604bedbcf73019521d0f4c",
            "718290a9bdd7412f83839905a096e818",
            "82e8883f097d4e7d97c1835b5c605544",
            "98d15e345257413a9f0feb27b7ec2329",
            "a5b39aa9e85b4f868cf75834a3b670c7",
            "dc1b78bceb934ffdbe2e7f77281e70eb",
            "4f2596f758b042da8be6133e2537f905",
            "24b5bfe46291439e992763629ef232cf"
          ]
        },
        "id": "YA-DQEYEJ4HU",
        "outputId": "2345d510-5a07-4913-9fe3-1a311caa2737"
      },
      "source": [
        "fn = FFNetwork_v1()\n",
        "fit_3()"
      ],
      "execution_count": null,
      "outputs": [
        {
          "output_type": "stream",
          "text": [
            "/usr/local/lib/python3.7/dist-packages/ipykernel_launcher.py:6: TqdmDeprecationWarning: This function will be removed in tqdm==5.0.0\n",
            "Please use `tqdm.notebook.tqdm` instead of `tqdm.tqdm_notebook`\n",
            "  \n"
          ],
          "name": "stderr"
        },
        {
          "output_type": "display_data",
          "data": {
            "application/vnd.jupyter.widget-view+json": {
              "model_id": "ac7a4027c3604bedbcf73019521d0f4c",
              "version_minor": 0,
              "version_major": 2
            },
            "text/plain": [
              "HBox(children=(FloatProgress(value=0.0, max=10000.0), HTML(value='')))"
            ]
          },
          "metadata": {
            "tags": []
          }
        },
        {
          "output_type": "stream",
          "text": [
            "\n"
          ],
          "name": "stdout"
        },
        {
          "output_type": "display_data",
          "data": {
            "image/png": "[encoded data removed]",
            "text/plain": [
              "<Figure size 900x600 with 1 Axes>"
            ]
          },
          "metadata": {
            "tags": []
          }
        },
        {
          "output_type": "stream",
          "text": [
            "Accuracy: 0.8866666555404663\n",
            "Loss: 0.8738743662834167\n"
          ],
          "name": "stdout"
        }
      ]
    },
    {
      "cell_type": "code",
      "metadata": {
        "id": "vNE9i5tKJ4zg"
      },
      "source": [
        "class FFNetwork_v2(nn.Module):\n",
        "\n",
        "  def __init__(self):\n",
        "    super().__init__()\n",
        "    torch.manual_seed(0)\n",
        "    self.net = nn.Sequential(\n",
        "        nn.Linear(2,4),\n",
        "        nn.Sigmoid(),\n",
        "        nn.Linear(4,8),\n",
        "        nn.Linear(8,4),\n",
        "        nn.Softmax()\n",
        "        )\n",
        "    \n",
        "\n",
        "  def weights_init(self,m):\n",
        "    if isinstance(m, nn.Linear):\n",
        "      nn.init.kaiming_uniform_(m.weight,nonlinearity='sigmoid')\n",
        "      nn.init.zeros_(m.bias)\n",
        "  \n",
        "  \n",
        "  \n",
        "  def forward(self,x): \n",
        "    return self.net(x)\n",
        "\n",
        "\n",
        "def fit_4(x,y,model,loss_fn,opt,epochs=4000,show_plots=False):\n",
        "  \n",
        "  loss_count = []\n",
        "  accuracy_count = []\n",
        "  for i in tqdm_notebook(range(epochs)):\n",
        "    loss_train = loss_func(model(x.float()),y)\n",
        "    loss_count.append(loss_train.item())\n",
        "    accuracy_count.append(accuracy_find_2(model(x.float()),y))\n",
        "    loss_train.backward()\n",
        "    opt.step()\n",
        "    opt.zero_grad()\n",
        "  if show_plots == True:\n",
        "    plt.figure(dpi=150)\n",
        "    plt.plot(loss_count,'r')\n",
        "    plt.plot(accuracy_count,'b')\n",
        "    plt.xlabel('Epochs')\n",
        "    plt.ylabel('Loss & Accuracy')\n",
        "    plt.title('Training Data')\n",
        "    plt.show()\n",
        "    print('Accuracy:', accuracy_count[epochs-1])\n",
        "    print('Loss:', loss_count[epochs-1])\n",
        "\n",
        "\n",
        "#This the our cleanest class written so far, we have abstracted out as much as we could \n",
        "#The forward pass code can also be replaced using nn.Sequential which takes care of initialising and forward pass together\n",
        "#In our new fit function we give x,y class, loss function, optimizer and epochs as input and remove code for plotting\n",
        "#Only the final loss value is returned/modified to show the plots also \n",
        "#We need to support different initilisation methods, so we have written another function called weights init\n",
        "#This checks nn.sequential and for each linear command, applies the specified init method\n",
        "#This cannot be called here or in the fit function, it is called separately while instantiating the class"
      ],
      "execution_count": null,
      "outputs": []
    },
    {
      "cell_type": "code",
      "metadata": {
        "colab": {
          "base_uri": "https://localhost:8080/",
          "height": 810,
          "referenced_widgets": [
            "02507fb6857b4b048fc8055508436444",
            "b7fe7db0d2044cf190e5d05bb620f245",
            "f62006285b704dc9bb339102fe409ab3",
            "79a54aeb5cbb44ff99126191391cf19d",
            "19f2f0cdb3fd4ae5b58aefc3b429d615",
            "97b22472951e42a294c460d0f7120acd",
            "6ed911733a794ddc8c9ff5f92e6f98cc",
            "f8e5e99b4ee641b3bfe446b43e96d4dc"
          ]
        },
        "id": "fZvtkAs8gD06",
        "outputId": "6810c4e5-ba13-4f00-b94e-0a67a57c2715"
      },
      "source": [
        "%%time\n",
        "device = torch.device(\"cpu\")\n",
        "X_train = X_train.to(device)\n",
        "Y_train = Y_train.to(device)\n",
        "fn = FFNetwork_v2()\n",
        "fn.net.apply(fn.weights_init)\n",
        "fn.to(device)\n",
        "opt = optim.Adam(fn.parameters(),lr=0.12, betas=(0.97, 0.99), eps=1e-08)\n",
        "loss_func = F.cross_entropy\n",
        "fit_4(X_train,Y_train,fn,loss_func,opt,epochs=500,show_plots=True)\n",
        "\n",
        "#We instantiate the class, set our optimizer and define the loss function\n",
        "#We then call the fit function with the appropriate inputs as discussed above\n",
        "#Everything is moved to cpu/cuda depending on what we specify\n",
        "#We can also use different optimizers by replacing the single optim line of code we have written above\n",
        "\n",
        "#The most efficient use of cuda/GPU is when our network is very large, time taken will be orders of mangnitude lower\n",
        "#For smaller networks the change is not very evident, performance may also be the same "
      ],
      "execution_count": null,
      "outputs": [
        {
          "output_type": "stream",
          "text": [
            "/usr/local/lib/python3.7/dist-packages/ipykernel_launcher.py:30: TqdmDeprecationWarning: This function will be removed in tqdm==5.0.0\n",
            "Please use `tqdm.notebook.tqdm` instead of `tqdm.tqdm_notebook`\n"
          ],
          "name": "stderr"
        },
        {
          "output_type": "display_data",
          "data": {
            "application/vnd.jupyter.widget-view+json": {
              "model_id": "02507fb6857b4b048fc8055508436444",
              "version_minor": 0,
              "version_major": 2
            },
            "text/plain": [
              "HBox(children=(FloatProgress(value=0.0, max=500.0), HTML(value='')))"
            ]
          },
          "metadata": {
            "tags": []
          }
        },
        {
          "output_type": "stream",
          "text": [
            "/usr/local/lib/python3.7/dist-packages/torch/nn/modules/container.py:119: UserWarning: Implicit dimension choice for softmax has been deprecated. Change the call to include dim=X as an argument.\n",
            "  input = module(input)\n"
          ],
          "name": "stderr"
        },
        {
          "output_type": "stream",
          "text": [
            "\n"
          ],
          "name": "stdout"
        },
        {
          "output_type": "display_data",
          "data": {
            "image/png": "[encoded data removed]",
            "text/plain": [
              "<Figure size 900x600 with 1 Axes>"
            ]
          },
          "metadata": {
            "tags": []
          }
        },
        {
          "output_type": "stream",
          "text": [
            "Accuracy: 0.9426666498184204\n",
            "Loss: 0.8001279234886169\n",
            "CPU times: user 1.64 s, sys: 24.3 ms, total: 1.66 s\n",
            "Wall time: 1.68 s\n"
          ],
          "name": "stdout"
        }
      ]
    }
  ]
}